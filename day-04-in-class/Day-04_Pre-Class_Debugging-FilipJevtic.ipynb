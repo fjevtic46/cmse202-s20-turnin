{
 "cells": [
  {
   "cell_type": "markdown",
   "metadata": {
    "slideshow": {
     "slide_type": "-"
    }
   },
   "source": [
    "## <p style=\"text-align: right;\"> &#9989; Filip Jevtic </p>\n"
   ]
  },
  {
   "cell_type": "markdown",
   "metadata": {
    "slideshow": {
     "slide_type": "-"
    }
   },
   "source": [
    "# Day 4 Pre-Class Assignment: Debugging\n",
    "This assignment will introduce some tools we will be using to help us build better code. Note that some of this content might be review from a previous course, but since being able to debug code is quite important, we figured it is worth revisiting some of these ideas!\n",
    "\n",
    "Also, in general, during this class, don't worry, sometimes we'll all feel a bit like this:\n",
    "\n",
    "<img src=\"https://imgs.xkcd.com/comics/inexplicable_2x.png\" width=\"700px\">\n",
    "\n",
    "Courtesy of [xkcd](http://xkcd.com)"
   ]
  },
  {
   "cell_type": "markdown",
   "metadata": {
    "slideshow": {
     "slide_type": "-"
    }
   },
   "source": [
    "## Goals for today's pre-class assignment \n",
    "\n",
    "* Review what we mean when we talk about \"debugging\" code \n",
    "* Practice debugging code\n",
    "* Revisit how we can use Git to track changes in our code\n"
   ]
  },
  {
   "cell_type": "markdown",
   "metadata": {},
   "source": [
    "## Assignment instructions\n",
    "\n",
    "**This assignment is due by 11:59 p.m. the day before class** and should be uploaded into the appropriate \"Pre-class assignments\" submission folder in the Desire2Learn website. "
   ]
  },
  {
   "cell_type": "markdown",
   "metadata": {},
   "source": [
    "# 1. What is Debugging?\n",
    "\n",
    "Consider the following common error.  This error occurs often when using code written for Python 2 inside of python 3.  "
   ]
  },
  {
   "cell_type": "code",
   "execution_count": 1,
   "metadata": {},
   "outputs": [
    {
     "ename": "SyntaxError",
     "evalue": "Missing parentheses in call to 'print'. Did you mean print(\"Hello world\")? (<ipython-input-1-9fb80848b1b7>, line 1)",
     "output_type": "error",
     "traceback": [
      "\u001b[1;36m  File \u001b[1;32m\"<ipython-input-1-9fb80848b1b7>\"\u001b[1;36m, line \u001b[1;32m1\u001b[0m\n\u001b[1;33m    print \"Hello world\"\u001b[0m\n\u001b[1;37m                      ^\u001b[0m\n\u001b[1;31mSyntaxError\u001b[0m\u001b[1;31m:\u001b[0m Missing parentheses in call to 'print'. Did you mean print(\"Hello world\")?\n"
     ]
    }
   ],
   "source": [
    "print \"Hello world\""
   ]
  },
  {
   "cell_type": "markdown",
   "metadata": {},
   "source": [
    "Note that the error is extremely simple, It tells us where the problem is (it can only be line 1).  It also puts a pointer in the line where the Python interpreter started to get confused.  \n",
    "\n",
    "The type of error is \"SyntaxError\" which typically means you typed something wrong.  More importantly is the message that comes after the SyntaxError.  This message says \"Missing parentheses in call to 'print'\"  What does that mean?  Well in this case we could take it quite literally and decide to add some parentheses (this is a good guess).  However, maybe we are not sure where to add them or even what is a parentheses.  My recommendation is to use your favorite search engine to search for the error.  Note you may want to include some keywords such as jupyter or python or even Python to help limit the search. \n",
    "\n",
    "&#9989; **DO THIS**: Watch the following video."
   ]
  },
  {
   "cell_type": "code",
   "execution_count": 2,
   "metadata": {
    "scrolled": true
   },
   "outputs": [
    {
     "data": {
      "image/jpeg": "[encoded data removed]",
      "text/html": [
       "\n",
       "        <iframe\n",
       "            width=\"640\"\n",
       "            height=\"360\"\n",
       "            src=\"https://www.youtube.com/embed/TSWXvhAy2Wc\"\n",
       "            frameborder=\"0\"\n",
       "            allowfullscreen\n",
       "        ></iframe>\n",
       "        "
      ],
      "text/plain": [
       "<IPython.lib.display.YouTubeVideo at 0x19f5011df28>"
      ]
     },
     "execution_count": 2,
     "metadata": {},
     "output_type": "execute_result"
    }
   ],
   "source": [
    "from IPython.display import YouTubeVideo\n",
    "YouTubeVideo(\"TSWXvhAy2Wc\",width=640,height=360)"
   ]
  },
  {
   "cell_type": "markdown",
   "metadata": {},
   "source": [
    "**Question 1:** According to the video, what is the most important step in debugging a problem?"
   ]
  },
  {
   "cell_type": "markdown",
   "metadata": {},
   "source": [
    "<font size=8 color=\"#009600\">&#9998;</font> Where is the bug occurring?."
   ]
  },
  {
   "cell_type": "markdown",
   "metadata": {},
   "source": [
    "### Step 1: Where is the bug occurring?\n",
    "\n",
    "The following video is an example of a programmer going though the debugging process with a focus on the first step.  Many students find this style of \"looking over your shoulder\" video helpful. \n",
    "\n",
    "Sometimes, these sorts of videos can be slow paced. While this particular video is only a few minutes long, for longer videos you can experiment with playing the video at a higher speed, or skipping ahead if you feel like you already understand the content. "
   ]
  },
  {
   "cell_type": "code",
   "execution_count": null,
   "metadata": {
    "scrolled": false
   },
   "outputs": [],
   "source": [
    "from IPython.display import YouTubeVideo\n",
    "YouTubeVideo(\"UZDmJsib05Q\",width=640,height=360)"
   ]
  },
  {
   "cell_type": "markdown",
   "metadata": {},
   "source": [
    "### Step 2: What is causing the bug?\n",
    "The second step in our debugging process is to figure out what is causing the bug. Some types of bugs are so common that they are given special names. The following is a list of some common bugs that occur in many different languages with examples in python. Review the examples and make sure you understand what is causing the bug in each:\n",
    "\n",
    "> Forgive your enemies, but never forget their names. -  John F. Kennedy\n",
    "\n",
    "For practice, when possible, **fix the bug!**"
   ]
  },
  {
   "cell_type": "markdown",
   "metadata": {},
   "source": [
    "**Syntax bug** - Something is spelled or typed in a way that the interpreter or compiler doesn't understand.  Syntax errors are the cause of many bugs. Sometimes the python interpreter is helpful and lets you know that it found some invalid syntax. For example:"
   ]
  },
  {
   "cell_type": "code",
   "execution_count": 3,
   "metadata": {},
   "outputs": [
    {
     "ename": "SyntaxError",
     "evalue": "invalid syntax (<ipython-input-3-4111267e9e64>, line 4)",
     "output_type": "error",
     "traceback": [
      "\u001b[1;36m  File \u001b[1;32m\"<ipython-input-3-4111267e9e64>\"\u001b[1;36m, line \u001b[1;32m4\u001b[0m\n\u001b[1;33m    if x > 0.5\u001b[0m\n\u001b[1;37m              ^\u001b[0m\n\u001b[1;31mSyntaxError\u001b[0m\u001b[1;31m:\u001b[0m invalid syntax\n"
     ]
    }
   ],
   "source": [
    "import random\n",
    "\n",
    "x = random.random()\n",
    "if x > 0.5\n",
    "    print(\"big\")\n",
    "else:\n",
    "    print('little')"
   ]
  },
  {
   "cell_type": "markdown",
   "metadata": {},
   "source": [
    "However, sometimes a syntax error is less obvious. For example:"
   ]
  },
  {
   "cell_type": "code",
   "execution_count": 4,
   "metadata": {},
   "outputs": [
    {
     "ename": "SyntaxError",
     "evalue": "EOL while scanning string literal (<ipython-input-4-a42123aec693>, line 1)",
     "output_type": "error",
     "traceback": [
      "\u001b[1;36m  File \u001b[1;32m\"<ipython-input-4-a42123aec693>\"\u001b[1;36m, line \u001b[1;32m1\u001b[0m\n\u001b[1;33m    message = 'hello world\u001b[0m\n\u001b[1;37m                          ^\u001b[0m\n\u001b[1;31mSyntaxError\u001b[0m\u001b[1;31m:\u001b[0m EOL while scanning string literal\n"
     ]
    }
   ],
   "source": [
    "message = 'hello world\n",
    "\n",
    "if message:\n",
    "    print(message)"
   ]
  },
  {
   "cell_type": "markdown",
   "metadata": {},
   "source": [
    "**Off by one bug** - The program is accessing an indexed list or container and uses the size of the list as an index. In Python this error generally throws an \"Index out of range\" error."
   ]
  },
  {
   "cell_type": "code",
   "execution_count": 5,
   "metadata": {},
   "outputs": [
    {
     "ename": "IndexError",
     "evalue": "list index out of range",
     "output_type": "error",
     "traceback": [
      "\u001b[1;31m---------------------------------------------------------------------------\u001b[0m",
      "\u001b[1;31mIndexError\u001b[0m                                Traceback (most recent call last)",
      "\u001b[1;32m<ipython-input-5-71da2b6e8ea0>\u001b[0m in \u001b[0;36m<module>\u001b[1;34m()\u001b[0m\n\u001b[0;32m      1\u001b[0m \u001b[0mmy_list\u001b[0m \u001b[1;33m=\u001b[0m \u001b[1;33m[\u001b[0m\u001b[1;36m1\u001b[0m\u001b[1;33m,\u001b[0m \u001b[1;36m2\u001b[0m\u001b[1;33m,\u001b[0m \u001b[1;36m3\u001b[0m\u001b[1;33m,\u001b[0m \u001b[1;36m4\u001b[0m\u001b[1;33m,\u001b[0m \u001b[1;36m5\u001b[0m\u001b[1;33m]\u001b[0m\u001b[1;33m\u001b[0m\u001b[0m\n\u001b[1;32m----> 2\u001b[1;33m \u001b[0mmy_list\u001b[0m\u001b[1;33m[\u001b[0m\u001b[1;36m5\u001b[0m\u001b[1;33m]\u001b[0m\u001b[1;33m\u001b[0m\u001b[0m\n\u001b[0m",
      "\u001b[1;31mIndexError\u001b[0m: list index out of range"
     ]
    }
   ],
   "source": [
    "my_list = [1, 2, 3, 4, 5]\n",
    "my_list[5]"
   ]
  },
  {
   "cell_type": "markdown",
   "metadata": {},
   "source": [
    "**Divide by Zero bug** - Program is trying to divide a number by zero.  This is invalid. In Python this error generally throws a \"ZeroDivisionError\""
   ]
  },
  {
   "cell_type": "code",
   "execution_count": 6,
   "metadata": {},
   "outputs": [
    {
     "ename": "ZeroDivisionError",
     "evalue": "division by zero",
     "output_type": "error",
     "traceback": [
      "\u001b[1;31m---------------------------------------------------------------------------\u001b[0m",
      "\u001b[1;31mZeroDivisionError\u001b[0m                         Traceback (most recent call last)",
      "\u001b[1;32m<ipython-input-6-22e6f3459e6c>\u001b[0m in \u001b[0;36m<module>\u001b[1;34m()\u001b[0m\n\u001b[1;32m----> 1\u001b[1;33m \u001b[0mx\u001b[0m \u001b[1;33m=\u001b[0m \u001b[1;36m100\u001b[0m\u001b[1;33m/\u001b[0m\u001b[1;36m0\u001b[0m\u001b[1;33m\u001b[0m\u001b[0m\n\u001b[0m",
      "\u001b[1;31mZeroDivisionError\u001b[0m: division by zero"
     ]
    }
   ],
   "source": [
    "x = 100/0"
   ]
  },
  {
   "cell_type": "markdown",
   "metadata": {},
   "source": [
    "**Type bug** - The operation in a program is expecting a variable of a specific type but the variable given is a wrong. Python throws a \"TypeError\" with a explanation of what the type conflict was caused by."
   ]
  },
  {
   "cell_type": "code",
   "execution_count": 7,
   "metadata": {},
   "outputs": [
    {
     "ename": "TypeError",
     "evalue": "unsupported operand type(s) for +: 'int' and 'str'",
     "output_type": "error",
     "traceback": [
      "\u001b[1;31m---------------------------------------------------------------------------\u001b[0m",
      "\u001b[1;31mTypeError\u001b[0m                                 Traceback (most recent call last)",
      "\u001b[1;32m<ipython-input-7-c4ec694a6f1d>\u001b[0m in \u001b[0;36m<module>\u001b[1;34m()\u001b[0m\n\u001b[0;32m      1\u001b[0m \u001b[0mfirst\u001b[0m \u001b[1;33m=\u001b[0m \u001b[1;36m10\u001b[0m\u001b[1;33m\u001b[0m\u001b[0m\n\u001b[0;32m      2\u001b[0m \u001b[0msecond\u001b[0m \u001b[1;33m=\u001b[0m \u001b[1;34m'10'\u001b[0m\u001b[1;33m\u001b[0m\u001b[0m\n\u001b[1;32m----> 3\u001b[1;33m \u001b[0mprint\u001b[0m\u001b[1;33m(\u001b[0m\u001b[0mfirst\u001b[0m \u001b[1;33m+\u001b[0m \u001b[0msecond\u001b[0m\u001b[1;33m)\u001b[0m\u001b[1;33m\u001b[0m\u001b[0m\n\u001b[0m",
      "\u001b[1;31mTypeError\u001b[0m: unsupported operand type(s) for +: 'int' and 'str'"
     ]
    }
   ],
   "source": [
    "first = 10\n",
    "second = '10'\n",
    "print(first + second)"
   ]
  },
  {
   "cell_type": "markdown",
   "metadata": {},
   "source": [
    "### Step 3: How do you fix the bug? (Putting it all together)\n",
    "Consider the following example and answer the questions below.  Although there is no error, there is a bug.  The program only prints files 1-9 and skips 10. \n",
    "\n",
    "**Cool Jupyter trick**: You can turn on line numbers in a jupyter cell as follows:\n",
    "1. Select the sell by clicking the words just to the left of an input cell (ex 'In[31]:') This should turn the left side of the cell <font color='blue'>blue</font>. You can also click on the code part of the cell and then press `ESC` to do this. This puts the notebook into \"command mode\".\n",
    "2. If the left side of the cell is <font color='blue'>blue</font> press `L` to toggle line numbers on and off.\n",
    "3. For a complete list of keyboard shortcuts go to the Jupyter \"Help\" menu and select \"Keyboard Shortcuts.\" These can come in handy. You can also press `ESC` to enter command mode and then press `H` to access the command menu as well."
   ]
  },
  {
   "cell_type": "code",
   "execution_count": 8,
   "metadata": {},
   "outputs": [
    {
     "name": "stdout",
     "output_type": "stream",
     "text": [
      "./output_file_1.dat\n",
      "./output_file_2.dat\n",
      "./output_file_3.dat\n",
      "./output_file_4.dat\n",
      "./output_file_5.dat\n",
      "./output_file_6.dat\n",
      "./output_file_7.dat\n",
      "./output_file_8.dat\n",
      "./output_file_9.dat\n"
     ]
    }
   ],
   "source": [
    "'''Program to create a list of ten outputfiles numbered from 1 to 10'''\n",
    "rootfilename='./output_file_'\n",
    "outputfile_extension = '.dat'\n",
    "number_of_output_files = 10\n",
    "\n",
    "filelist = []\n",
    "\n",
    "for i in range(1,10):\n",
    "    filename = rootfilename + str(i) + outputfile_extension\n",
    "    filelist.append(filename)\n",
    "    print(filename)"
   ]
  },
  {
   "cell_type": "markdown",
   "metadata": {},
   "source": [
    "**Question 2:** Where is the bug occurring? (make sure you include the line number)"
   ]
  },
  {
   "cell_type": "markdown",
   "metadata": {},
   "source": [
    "<font size=8 color=\"#009600\">&#9998;</font> On Line 8, the wrong number is in the range"
   ]
  },
  {
   "cell_type": "markdown",
   "metadata": {},
   "source": [
    "**Question 3:** What is causing the bug? (Is this bug one of the common bug types listed above)?"
   ]
  },
  {
   "cell_type": "markdown",
   "metadata": {},
   "source": [
    "<font size=8 color=\"#009600\">&#9998;</font>wrong range, seems to be a fairly common bug."
   ]
  },
  {
   "cell_type": "markdown",
   "metadata": {},
   "source": [
    "**Question 4:** How can you fix the bug?  Give two solutions."
   ]
  },
  {
   "cell_type": "markdown",
   "metadata": {},
   "source": [
    "<font size=8 color=\"#009600\">&#9998;</font> Make the range 1-11, or instead make it loop through a list numbered 1-10."
   ]
  },
  {
   "cell_type": "markdown",
   "metadata": {},
   "source": [
    "---\n",
    "# 2. Practicing debugging\n",
    "\n",
    "## More bug examples"
   ]
  },
  {
   "cell_type": "markdown",
   "metadata": {},
   "source": [
    "The cells below each contain code that, when run, will throw an error. For each of the following:\n",
    "1. Describe what you think the code *should* be doing\n",
    "2. What error message are you getting? What does that error message mean?\n",
    "3. How could the code be corrected so that it will run without throwing an error *and* perform the task that you think it should be?\n",
    "4. Try copying and pasting the code into a new cell and correcting it as you outlined in the above question.\n",
    "\n",
    "Be sure to answer all of the questions for each piece of code."
   ]
  },
  {
   "cell_type": "markdown",
   "metadata": {},
   "source": [
    "*Code Sample 1:*"
   ]
  },
  {
   "cell_type": "code",
   "execution_count": 11,
   "metadata": {},
   "outputs": [
    {
     "ename": "IndexError",
     "evalue": "list index out of range",
     "output_type": "error",
     "traceback": [
      "\u001b[1;31m---------------------------------------------------------------------------\u001b[0m",
      "\u001b[1;31mIndexError\u001b[0m                                Traceback (most recent call last)",
      "\u001b[1;32m<ipython-input-11-8bf0e4ff224f>\u001b[0m in \u001b[0;36m<module>\u001b[1;34m()\u001b[0m\n\u001b[0;32m      1\u001b[0m \u001b[0mB\u001b[0m \u001b[1;33m=\u001b[0m \u001b[1;33m[\u001b[0m\u001b[0mrange\u001b[0m\u001b[1;33m(\u001b[0m\u001b[1;36m100\u001b[0m\u001b[1;33m)\u001b[0m\u001b[1;33m]\u001b[0m\u001b[1;33m\u001b[0m\u001b[0m\n\u001b[1;32m----> 2\u001b[1;33m \u001b[0mB\u001b[0m\u001b[1;33m[\u001b[0m\u001b[1;36m10\u001b[0m\u001b[1;33m]\u001b[0m\u001b[1;33m\u001b[0m\u001b[0m\n\u001b[0m",
      "\u001b[1;31mIndexError\u001b[0m: list index out of range"
     ]
    }
   ],
   "source": [
    "B = [range(100)]\n",
    "B[10]"
   ]
  },
  {
   "cell_type": "markdown",
   "metadata": {},
   "source": [
    "<font size=8 color=\"#009600\">&#9998;</font> \n",
    "Describe what you think the code should be doing: The code is supposed to be outputting the 11th element in a list.\n",
    "What error message are you getting? What does that error message mean? Index Error: List index out of range. It means that the index I am trying to access is larger than the size of the list itself.\n",
    "How could the code be corrected so that it will run without throwing an error and perform the task that you think it should be? Changing how the list is constructed.\n",
    "Try copying and pasting the code into a new cell and correcting it as you outlined in the above question."
   ]
  },
  {
   "cell_type": "code",
   "execution_count": 12,
   "metadata": {},
   "outputs": [
    {
     "data": {
      "text/plain": [
       "10"
      ]
     },
     "execution_count": 12,
     "metadata": {},
     "output_type": "execute_result"
    }
   ],
   "source": [
    "##Put your code here\n",
    "B = []\n",
    "for i in range(100):\n",
    "    B.append(i)\n",
    "B[10]"
   ]
  },
  {
   "cell_type": "markdown",
   "metadata": {},
   "source": [
    "*Code Sample 2:*"
   ]
  },
  {
   "cell_type": "code",
   "execution_count": 13,
   "metadata": {},
   "outputs": [
    {
     "ename": "TypeError",
     "evalue": "unsupported operand type(s) for -: 'list' and 'float'",
     "output_type": "error",
     "traceback": [
      "\u001b[1;31m---------------------------------------------------------------------------\u001b[0m",
      "\u001b[1;31mTypeError\u001b[0m                                 Traceback (most recent call last)",
      "\u001b[1;32m<ipython-input-13-98f17b39a333>\u001b[0m in \u001b[0;36m<module>\u001b[1;34m()\u001b[0m\n\u001b[0;32m     11\u001b[0m \u001b[0mD\u001b[0m \u001b[1;33m=\u001b[0m \u001b[1;33m[\u001b[0m\u001b[1;36m3.2\u001b[0m\u001b[1;33m,\u001b[0m \u001b[1;36m7.8\u001b[0m\u001b[1;33m,\u001b[0m \u001b[1;36m1.11\u001b[0m\u001b[1;33m,\u001b[0m \u001b[1;36m10.98\u001b[0m\u001b[1;33m,\u001b[0m \u001b[1;36m13.4\u001b[0m\u001b[1;33m,\u001b[0m \u001b[1;36m8.8\u001b[0m\u001b[1;33m]\u001b[0m\u001b[1;33m\u001b[0m\u001b[0m\n\u001b[0;32m     12\u001b[0m \u001b[1;33m\u001b[0m\u001b[0m\n\u001b[1;32m---> 13\u001b[1;33m \u001b[0mmean_and_standard_deviation\u001b[0m\u001b[1;33m(\u001b[0m\u001b[0mD\u001b[0m\u001b[1;33m)\u001b[0m\u001b[1;33m\u001b[0m\u001b[0m\n\u001b[0m",
      "\u001b[1;32m<ipython-input-13-98f17b39a333>\u001b[0m in \u001b[0;36mmean_and_standard_deviation\u001b[1;34m(data)\u001b[0m\n\u001b[0;32m      5\u001b[0m     \u001b[0mvariance\u001b[0m \u001b[1;33m=\u001b[0m \u001b[1;36m0\u001b[0m\u001b[1;33m\u001b[0m\u001b[0m\n\u001b[0;32m      6\u001b[0m     \u001b[1;32mfor\u001b[0m \u001b[0mentry\u001b[0m \u001b[1;32min\u001b[0m \u001b[0mdata\u001b[0m\u001b[1;33m:\u001b[0m\u001b[1;33m\u001b[0m\u001b[0m\n\u001b[1;32m----> 7\u001b[1;33m         \u001b[0mvariance\u001b[0m \u001b[1;33m+=\u001b[0m \u001b[1;33m(\u001b[0m\u001b[0mdata\u001b[0m \u001b[1;33m-\u001b[0m \u001b[0mmean\u001b[0m\u001b[1;33m)\u001b[0m\u001b[1;33m**\u001b[0m\u001b[1;36m2\u001b[0m\u001b[1;33m\u001b[0m\u001b[0m\n\u001b[0m\u001b[0;32m      8\u001b[0m     \u001b[0mvariance\u001b[0m \u001b[1;33m/=\u001b[0m \u001b[0mlen\u001b[0m\u001b[1;33m(\u001b[0m\u001b[0mdata\u001b[0m\u001b[1;33m)\u001b[0m\u001b[1;33m\u001b[0m\u001b[0m\n\u001b[0;32m      9\u001b[0m     \u001b[1;32mreturn\u001b[0m \u001b[0mmean\u001b[0m\u001b[1;33m,\u001b[0m \u001b[0mvariance\u001b[0m \u001b[1;33m**\u001b[0m\u001b[1;33m(\u001b[0m\u001b[1;36m1\u001b[0m\u001b[1;33m/\u001b[0m\u001b[1;36m2\u001b[0m\u001b[1;33m)\u001b[0m\u001b[1;33m\u001b[0m\u001b[0m\n",
      "\u001b[1;31mTypeError\u001b[0m: unsupported operand type(s) for -: 'list' and 'float'"
     ]
    }
   ],
   "source": [
    "##You may need to google the formula for standard deviation if it's something that you aren't familiar with\n",
    "##But knowledge of the formula is not required to fix the bug\n",
    "def mean_and_standard_deviation(data):\n",
    "    mean = sum(data)/len(data)\n",
    "    variance = 0\n",
    "    for entry in data:\n",
    "        variance += (data - mean)**2\n",
    "    variance /= len(data)\n",
    "    return mean, variance **(1/2)\n",
    "\n",
    "D = [3.2, 7.8, 1.11, 10.98, 13.4, 8.8]\n",
    "\n",
    "mean_and_standard_deviation(D)"
   ]
  },
  {
   "cell_type": "markdown",
   "metadata": {},
   "source": [
    "<font size=8 color=\"#009600\">&#9998;</font> Describe what you think the code should be doing. I think the code is supposed to design a function that calculates sd and mean and then the function is tested.\n",
    "What error message are you getting? What does that error message mean? Type error, it means that two different types of objects are trying to interact.\n",
    "How could the code be corrected so that it will run without throwing an error and perform the task that you think it should be? Using the variable entry given in the loop instead of using the list variable outright.\n",
    "Try copying and pasting the code into a new cell and correcting it as you outlined in the above question."
   ]
  },
  {
   "cell_type": "code",
   "execution_count": 14,
   "metadata": {},
   "outputs": [
    {
     "data": {
      "text/plain": [
       "(7.548333333333335, 4.242807312250804)"
      ]
     },
     "execution_count": 14,
     "metadata": {},
     "output_type": "execute_result"
    }
   ],
   "source": [
    "##Put your code here\n",
    "def mean_and_standard_deviation(data):\n",
    "    mean = sum(data)/len(data)\n",
    "    variance = 0\n",
    "    for entry in data:\n",
    "        variance += (entry - mean)**2\n",
    "    variance /= len(data)\n",
    "    return mean, variance **(1/2)\n",
    "\n",
    "D = [3.2, 7.8, 1.11, 10.98, 13.4, 8.8]\n",
    "\n",
    "mean_and_standard_deviation(D)"
   ]
  },
  {
   "cell_type": "markdown",
   "metadata": {},
   "source": [
    "## Bugs that don't break your code\n",
    "\n",
    "The cells below each contain code that will run, but the result will not be correct (broken but not breaking). For each of the examples:\n",
    "1. Describe what you think the code *should* be doing.\n",
    "2. How do you know that the result of the code is incorrect?\n",
    "3. How could the code be corrected so that it will run as expect it to?\n",
    "4. Try copying and pasting the code into a new cell and correcting it as you outlined in the above question.\n",
    "\n",
    "Be sure to answer all of the questions for each piece of code."
   ]
  },
  {
   "cell_type": "markdown",
   "metadata": {},
   "source": [
    "*Code Sample 3:*"
   ]
  },
  {
   "cell_type": "code",
   "execution_count": 15,
   "metadata": {},
   "outputs": [
    {
     "name": "stdout",
     "output_type": "stream",
     "text": [
      "32 is not a prime number\n",
      "1 times 32 is 32\n"
     ]
    }
   ],
   "source": [
    "num = 32\n",
    "if num > 1:\n",
    "    for i in range(1,num):\n",
    "        if (num % i) == 0:\n",
    "            print(num,\"is not a prime number\")\n",
    "            print(i,\"times\",num//i,\"is\", num)\n",
    "            break\n",
    "    else:\n",
    "        print(num, \"is a prime number\")"
   ]
  },
  {
   "cell_type": "markdown",
   "metadata": {},
   "source": [
    "<font size=8 color=\"#009600\">&#9998;</font> Describe what you think the code should be doing. Demonstrating an accurate prime number test function.\n",
    "How do you know that the result of the code is incorrect? It says every number I attempt is not a prime number.\n",
    "How could the code be corrected so that it will run as expect it to? Replace the 1 in the range of the loop with a 2.\n",
    "Try copying and pasting the code into a new cell and correcting it as you outlined in the above question."
   ]
  },
  {
   "cell_type": "code",
   "execution_count": 16,
   "metadata": {},
   "outputs": [
    {
     "name": "stdout",
     "output_type": "stream",
     "text": [
      "32 is not a prime number\n",
      "2 times 16 is 32\n"
     ]
    }
   ],
   "source": [
    "##Try to put the correct code here\n",
    "num = 32\n",
    "if num > 1:\n",
    "    for i in range(2,num):\n",
    "        if (num % i) == 0:\n",
    "            print(num,\"is not a prime number\")\n",
    "            print(i,\"times\",num//i,\"is\", num)\n",
    "            break\n",
    "    else:\n",
    "        print(num, \"is a prime number\")"
   ]
  },
  {
   "cell_type": "markdown",
   "metadata": {},
   "source": [
    "*Code Sample 4:*"
   ]
  },
  {
   "cell_type": "code",
   "execution_count": 19,
   "metadata": {},
   "outputs": [
    {
     "name": "stdout",
     "output_type": "stream",
     "text": [
      "2! =  3\n",
      "3! =  6\n",
      "4! =  10\n"
     ]
    }
   ],
   "source": [
    "def factorial(num):\n",
    "    factorial = 0\n",
    "    for i in range(1, num + 1):\n",
    "        factorial = factorial + i\n",
    "    print(\"{}! =  {}\".format(num, factorial))\n",
    "    \n",
    "factorial(2)\n",
    "factorial(3)\n",
    "factorial(4)"
   ]
  },
  {
   "cell_type": "markdown",
   "metadata": {},
   "source": [
    "<font size=8 color=\"#009600\">&#9998;</font> Describe what you think the code should be doing. It should be designing a factorial function and testing it.\n",
    "How do you know that the result of the code is incorrect? 2 factorial is not 3.\n",
    "How could the code be corrected so that it will run as expect it to? Instead of adding numbers, multiply them and instead of initializing factorial to 0, initialize it to 1 so that it doesn't multiply to zero and return that.\n",
    "Try copying and pasting the code into a new cell and correcting it as you outlined in the above question."
   ]
  },
  {
   "cell_type": "code",
   "execution_count": 20,
   "metadata": {},
   "outputs": [
    {
     "name": "stdout",
     "output_type": "stream",
     "text": [
      "2! =  2\n",
      "3! =  6\n",
      "4! =  24\n"
     ]
    }
   ],
   "source": [
    "##Try to put the correct code here\n",
    "def factorial(num):\n",
    "    factorial = 1\n",
    "    for i in range(1, num + 1):\n",
    "        factorial = factorial * i\n",
    "    print(\"{}! =  {}\".format(num, factorial))\n",
    "    \n",
    "factorial(2)\n",
    "factorial(3)\n",
    "factorial(4)"
   ]
  },
  {
   "cell_type": "markdown",
   "metadata": {},
   "source": [
    "---\n",
    "# 3. Spending more time with Git\n",
    "\n",
    "Since understanding Git takes time and practice, seeing how Git works more than once can be really useful. Watch the following video and make sure you can follow everything that the presenter is doing and then respond to the prompt below. You may notice that the presenter is using Atom, the same text editor that is highlighted in the Software Setup Guide.\n",
    "\n",
    "**Note**: The code should automatically start the video at right spot, but if for some reason it starts at the beginning, just forward to 9:01. The content in the beginning is all stuff we've covered in class. Given that this video is a bit longer than some of the other videos we've watched, you may want to experiment with playing the video at an increased speed (which is something YouTube allows you to do).\n",
    "\n",
    "**Another note**: This particular user is on a Windows machine, so if you're on a Mac or Linux machine, things will behave slightly differently but the overall details are the same. Windows users, if you've been having trouble understand how Git and Git Bash are working make sure to pay special attention to this video."
   ]
  },
  {
   "cell_type": "code",
   "execution_count": 21,
   "metadata": {
    "scrolled": false
   },
   "outputs": [
    {
     "data": {
      "image/jpeg": "[encoded data removed]",
      "text/html": [
       "\n",
       "        <iframe\n",
       "            width=\"640\"\n",
       "            height=\"360\"\n",
       "            src=\"https://www.youtube.com/embed/SWYqp7iY_Tc?start=541\"\n",
       "            frameborder=\"0\"\n",
       "            allowfullscreen\n",
       "        ></iframe>\n",
       "        "
      ],
      "text/plain": [
       "<IPython.lib.display.YouTubeVideo at 0x19f502daa90>"
      ]
     },
     "execution_count": 21,
     "metadata": {},
     "output_type": "execute_result"
    }
   ],
   "source": [
    "from IPython.display import YouTubeVideo\n",
    "YouTubeVideo(\"SWYqp7iY_Tc\",width=640,height=360,start=541)"
   ]
  },
  {
   "cell_type": "markdown",
   "metadata": {},
   "source": [
    "**Provide a summary of what parts of the video you think were particularly useful, aspects that you still feel a bit unclear about, or parts are worried might cause you issues in the future.**"
   ]
  },
  {
   "cell_type": "markdown",
   "metadata": {},
   "source": [
    "*I thought that the three most useful things I learned were: 1.Clearing up confusion on what git functions should be used when, especially with commit. 2. Seeing what he modified in git then him showing it in his files app was really helpful. 3.I like that he gave a real world example which helped me understand why we need to even do all this. Also, granted I did watch the video on high speed, I felt like he was moving step to step suuper fast, so it took a while to get what he was doing. *"
   ]
  },
  {
   "cell_type": "markdown",
   "metadata": {},
   "source": [
    "----\n",
    "\n",
    "# 4. Assignment wrap-up\n",
    "\n",
    "\n",
    "Please fill out the form that appears when you run the code below.  **You must completely fill this out in order to receive credit for the assignment!**"
   ]
  },
  {
   "cell_type": "code",
   "execution_count": 22,
   "metadata": {},
   "outputs": [
    {
     "data": {
      "text/html": [
       "\n",
       "<iframe \n",
       "\tsrc=\"https://cmse.msu.edu/cmse202-pc-survey\" \n",
       "\twidth=\"800px\" \n",
       "\theight=\"600px\" \n",
       "\tframeborder=\"0\" \n",
       "\tmarginheight=\"0\" \n",
       "\tmarginwidth=\"0\">\n",
       "\tLoading...\n",
       "</iframe>\n"
      ],
      "text/plain": [
       "<IPython.core.display.HTML object>"
      ]
     },
     "execution_count": 22,
     "metadata": {},
     "output_type": "execute_result"
    }
   ],
   "source": [
    "from IPython.display import HTML\n",
    "HTML(\n",
    "\"\"\"\n",
    "<iframe \n",
    "\tsrc=\"https://cmse.msu.edu/cmse202-pc-survey\" \n",
    "\twidth=\"800px\" \n",
    "\theight=\"600px\" \n",
    "\tframeborder=\"0\" \n",
    "\tmarginheight=\"0\" \n",
    "\tmarginwidth=\"0\">\n",
    "\tLoading...\n",
    "</iframe>\n",
    "\"\"\"\n",
    ")\n"
   ]
  },
  {
   "cell_type": "markdown",
   "metadata": {},
   "source": [
    "---------\n",
    "### Congratulations, you're done with your pre-class assignment!\n",
    "\n",
    "Now, you just need to submit this assignment by uploading it to the course <a href=\"https://d2l.msu.edu/\">Desire2Learn</a> web page for today's submission folder (Don't forget to add your names in the first cell)."
   ]
  },
  {
   "cell_type": "markdown",
   "metadata": {},
   "source": [
    "&#169; Copyright 2018,  Michigan State University Board of Trustees"
   ]
  }
 ],
 "metadata": {
  "anaconda-cloud": {},
  "kernelspec": {
   "display_name": "Python 3",
   "language": "python",
   "name": "python3"
  },
  "language_info": {
   "codemirror_mode": {
    "name": "ipython",
    "version": 3
   },
   "file_extension": ".py",
   "mimetype": "text/x-python",
   "name": "python",
   "nbconvert_exporter": "python",
   "pygments_lexer": "ipython3",
   "version": "3.7.0"
  }
 },
 "nbformat": 4,
 "nbformat_minor": 2
}
