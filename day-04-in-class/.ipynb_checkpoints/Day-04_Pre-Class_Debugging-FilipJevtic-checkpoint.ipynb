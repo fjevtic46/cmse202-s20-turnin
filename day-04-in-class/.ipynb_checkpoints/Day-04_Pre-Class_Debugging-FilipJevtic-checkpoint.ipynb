{
 "cells": [
  {
   "cell_type": "markdown",
   "metadata": {
    "slideshow": {
     "slide_type": "-"
    }
   },
   "source": [
    "## <p style=\"text-align: right;\"> &#9989; Put your name here</p>\n"
   ]
  },
  {
   "cell_type": "markdown",
   "metadata": {
    "slideshow": {
     "slide_type": "-"
    }
   },
   "source": [
    "# Day 4 Pre-Class Assignment: Debugging\n",
    "This assignment will introduce some tools we will be using to help us build better code. Note that some of this content might be review from a previous course, but since being able to debug code is quite important, we figured it is worth revisiting some of these ideas!\n",
    "\n",
    "Also, in general, during this class, don't worry, sometimes we'll all feel a bit like this:\n",
    "\n",
    "<img src=\"https://imgs.xkcd.com/comics/inexplicable_2x.png\" width=\"700px\">\n",
    "\n",
    "Courtesy of [xkcd](http://xkcd.com)"
   ]
  },
  {
   "cell_type": "markdown",
   "metadata": {
    "slideshow": {
     "slide_type": "-"
    }
   },
   "source": [
    "## Goals for today's pre-class assignment \n",
    "\n",
    "* Review what we mean when we talk about \"debugging\" code \n",
    "* Practice debugging code\n",
    "* Revisit how we can use Git to track changes in our code\n"
   ]
  },
  {
   "cell_type": "markdown",
   "metadata": {},
   "source": [
    "## Assignment instructions\n",
    "\n",
    "**This assignment is due by 11:59 p.m. the day before class** and should be uploaded into the appropriate \"Pre-class assignments\" submission folder in the Desire2Learn website. "
   ]
  },
  {
   "cell_type": "markdown",
   "metadata": {},
   "source": [
    "# 1. What is Debugging?\n",
    "\n",
    "Consider the following common error.  This error occurs often when using code written for Python 2 inside of python 3.  "
   ]
  },
  {
   "cell_type": "code",
   "execution_count": null,
   "metadata": {},
   "outputs": [],
   "source": [
    "print \"Hello world\""
   ]
  },
  {
   "cell_type": "markdown",
   "metadata": {},
   "source": [
    "Note that the error is extremely simple, It tells us where the problem is (it can only be line 1).  It also puts a pointer in the line where the Python interpreter started to get confused.  \n",
    "\n",
    "The type of error is \"SyntaxError\" which typically means you typed something wrong.  More importantly is the message that comes after the SyntaxError.  This message says \"Missing parentheses in call to 'print'\"  What does that mean?  Well in this case we could take it quite literally and decide to add some parentheses (this is a good guess).  However, maybe we are not sure where to add them or even what is a parentheses.  My recommendation is to use your favorite search engine to search for the error.  Note you may want to include some keywords such as jupyter or python or even Python to help limit the search. \n",
    "\n",
    "&#9989; **DO THIS**: Watch the following video."
   ]
  },
  {
   "cell_type": "code",
   "execution_count": null,
   "metadata": {
    "scrolled": true
   },
   "outputs": [],
   "source": [
    "from IPython.display import YouTubeVideo\n",
    "YouTubeVideo(\"TSWXvhAy2Wc\",width=640,height=360)"
   ]
  },
  {
   "cell_type": "markdown",
   "metadata": {},
   "source": [
    "**Question 1:** According to the video, what is the most important step in debugging a problem?"
   ]
  },
  {
   "cell_type": "markdown",
   "metadata": {},
   "source": [
    "<font size=8 color=\"#009600\">&#9998;</font> Do This - Erase the contents of this cell and replace it with your answer to the above question!  (double-click on this text to edit this cell, and hit shift+enter to save the text). Please use appropriate Markdown formatting to make your answers easy to read."
   ]
  },
  {
   "cell_type": "markdown",
   "metadata": {},
   "source": [
    "### Step 1: Where is the bug occurring?\n",
    "\n",
    "The following video is an example of a programmer going though the debugging process with a focus on the first step.  Many students find this style of \"looking over your shoulder\" video helpful. \n",
    "\n",
    "Sometimes, these sorts of videos can be slow paced. While this particular video is only a few minutes long, for longer videos you can experiment with playing the video at a higher speed, or skipping ahead if you feel like you already understand the content. "
   ]
  },
  {
   "cell_type": "code",
   "execution_count": null,
   "metadata": {
    "scrolled": false
   },
   "outputs": [],
   "source": [
    "from IPython.display import YouTubeVideo\n",
    "YouTubeVideo(\"UZDmJsib05Q\",width=640,height=360)"
   ]
  },
  {
   "cell_type": "markdown",
   "metadata": {},
   "source": [
    "### Step 2: What is causing the bug?\n",
    "The second step in our debugging process is to figure out what is causing the bug. Some types of bugs are so common that they are given special names. The following is a list of some common bugs that occur in many different languages with examples in python. Review the examples and make sure you understand what is causing the bug in each:\n",
    "\n",
    "> Forgive your enemies, but never forget their names. -  John F. Kennedy\n",
    "\n",
    "For practice, when possible, **fix the bug!**"
   ]
  },
  {
   "cell_type": "markdown",
   "metadata": {},
   "source": [
    "**Syntax bug** - Something is spelled or typed in a way that the interpreter or compiler doesn't understand.  Syntax errors are the cause of many bugs. Sometimes the python interpreter is helpful and lets you know that it found some invalid syntax. For example:"
   ]
  },
  {
   "cell_type": "code",
   "execution_count": null,
   "metadata": {},
   "outputs": [],
   "source": [
    "import random\n",
    "\n",
    "x = random.random()\n",
    "if x > 0.5\n",
    "    print(\"big\")\n",
    "else:\n",
    "    print('little')"
   ]
  },
  {
   "cell_type": "markdown",
   "metadata": {},
   "source": [
    "However, sometimes a syntax error is less obvious. For example:"
   ]
  },
  {
   "cell_type": "code",
   "execution_count": null,
   "metadata": {},
   "outputs": [],
   "source": [
    "message = 'hello world\n",
    "\n",
    "if message:\n",
    "    print(message)"
   ]
  },
  {
   "cell_type": "markdown",
   "metadata": {},
   "source": [
    "**Off by one bug** - The program is accessing an indexed list or container and uses the size of the list as an index. In Python this error generally throws an \"Index out of range\" error."
   ]
  },
  {
   "cell_type": "code",
   "execution_count": null,
   "metadata": {},
   "outputs": [],
   "source": [
    "my_list = [1, 2, 3, 4, 5]\n",
    "my_list[5]"
   ]
  },
  {
   "cell_type": "markdown",
   "metadata": {},
   "source": [
    "**Divide by Zero bug** - Program is trying to divide a number by zero.  This is invalid. In Python this error generally throws a \"ZeroDivisionError\""
   ]
  },
  {
   "cell_type": "code",
   "execution_count": null,
   "metadata": {},
   "outputs": [],
   "source": [
    "x = 100/0"
   ]
  },
  {
   "cell_type": "markdown",
   "metadata": {},
   "source": [
    "**Type bug** - The operation in a program is expecting a variable of a specific type but the variable given is a wrong. Python throws a \"TypeError\" with a explanation of what the type conflict was caused by."
   ]
  },
  {
   "cell_type": "code",
   "execution_count": null,
   "metadata": {},
   "outputs": [],
   "source": [
    "first = 10\n",
    "second = '10'\n",
    "print(first + second)"
   ]
  },
  {
   "cell_type": "markdown",
   "metadata": {},
   "source": [
    "### Step 3: How do you fix the bug? (Putting it all together)\n",
    "Consider the following example and answer the questions below.  Although there is no error, there is a bug.  The program only prints files 1-9 and skips 10. \n",
    "\n",
    "**Cool Jupyter trick**: You can turn on line numbers in a jupyter cell as follows:\n",
    "1. Select the sell by clicking the words just to the left of an input cell (ex 'In[31]:') This should turn the left side of the cell <font color='blue'>blue</font>. You can also click on the code part of the cell and then press `ESC` to do this. This puts the notebook into \"command mode\".\n",
    "2. If the left side of the cell is <font color='blue'>blue</font> press `L` to toggle line numbers on and off.\n",
    "3. For a complete list of keyboard shortcuts go to the Jupyter \"Help\" menu and select \"Keyboard Shortcuts.\" These can come in handy. You can also press `ESC` to enter command mode and then press `H` to access the command menu as well."
   ]
  },
  {
   "cell_type": "code",
   "execution_count": null,
   "metadata": {},
   "outputs": [],
   "source": [
    "'''Program to create a list of ten outputfiles numbered from 1 to 10'''\n",
    "rootfilename='./output_file_'\n",
    "outputfile_extension = '.dat'\n",
    "number_of_output_files = 10\n",
    "\n",
    "filelist = []\n",
    "\n",
    "for i in range(1,10):\n",
    "    filename = rootfilename + str(i) + outputfile_extension\n",
    "    filelist.append(filename)\n",
    "    print(filename)"
   ]
  },
  {
   "cell_type": "markdown",
   "metadata": {},
   "source": [
    "**Question 2:** Where is the bug occurring? (make sure you include the line number)"
   ]
  },
  {
   "cell_type": "markdown",
   "metadata": {},
   "source": [
    "<font size=8 color=\"#009600\">&#9998;</font> Do This - Erase the contents of this cell and replace it with your answer to the above question!  (double-click on this text to edit this cell, and hit shift+enter to save the text). Please use appropriate Markdown formatting to make your answers easy to read."
   ]
  },
  {
   "cell_type": "markdown",
   "metadata": {},
   "source": [
    "**Question 3:** What is causing the bug? (Is this bug one of the common bug types listed above)?"
   ]
  },
  {
   "cell_type": "markdown",
   "metadata": {},
   "source": [
    "<font size=8 color=\"#009600\">&#9998;</font> Do This - Erase the contents of this cell and replace it with your answer to the above question!  (double-click on this text to edit this cell, and hit shift+enter to save the text). Please use appropriate Markdown formatting to make your answers easy to read."
   ]
  },
  {
   "cell_type": "markdown",
   "metadata": {},
   "source": [
    "**Question 4:** How can you fix the bug?  Give two solutions."
   ]
  },
  {
   "cell_type": "markdown",
   "metadata": {},
   "source": [
    "<font size=8 color=\"#009600\">&#9998;</font> Do This - Erase the contents of this cell and replace it with your answer to the above question!  (double-click on this text to edit this cell, and hit shift+enter to save the text). Please use appropriate Markdown formatting to make your answers easy to read."
   ]
  },
  {
   "cell_type": "markdown",
   "metadata": {},
   "source": [
    "---\n",
    "# 2. Practicing debugging\n",
    "\n",
    "## More bug examples"
   ]
  },
  {
   "cell_type": "markdown",
   "metadata": {},
   "source": [
    "The cells below each contain code that, when run, will throw an error. For each of the following:\n",
    "1. Describe what you think the code *should* be doing\n",
    "2. What error message are you getting? What does that error message mean?\n",
    "3. How could the code be corrected so that it will run without throwing an error *and* perform the task that you think it should be?\n",
    "4. Try copying and pasting the code into a new cell and correcting it as you outlined in the above question.\n",
    "\n",
    "Be sure to answer all of the questions for each piece of code."
   ]
  },
  {
   "cell_type": "markdown",
   "metadata": {},
   "source": [
    "*Code Sample 1:*"
   ]
  },
  {
   "cell_type": "code",
   "execution_count": null,
   "metadata": {},
   "outputs": [],
   "source": [
    "B = [range(100)]\n",
    "B[10]"
   ]
  },
  {
   "cell_type": "markdown",
   "metadata": {},
   "source": [
    "<font size=8 color=\"#009600\">&#9998;</font> Do This - Erase the contents of this cell and replace it with your answer to the above questions (1-4)!  (double-click on this text to edit this cell, and hit shift+enter to save the text)"
   ]
  },
  {
   "cell_type": "code",
   "execution_count": null,
   "metadata": {},
   "outputs": [],
   "source": [
    "##Put your code here"
   ]
  },
  {
   "cell_type": "markdown",
   "metadata": {},
   "source": [
    "*Code Sample 2:*"
   ]
  },
  {
   "cell_type": "code",
   "execution_count": null,
   "metadata": {},
   "outputs": [],
   "source": [
    "##You may need to google the formula for standard deviation if it's something that you aren't familiar with\n",
    "##But knowledge of the formula is not required to fix the bug\n",
    "def mean_and_standard_deviation(data):\n",
    "    mean = sum(data)/len(data)\n",
    "    variance = 0\n",
    "    for entry in data:\n",
    "        variance += (data - mean)**2\n",
    "    variance /= len(data)\n",
    "    return mean, variance **(1/2)\n",
    "\n",
    "D = [3.2, 7.8, 1.11, 10.98, 13.4, 8.8]\n",
    "\n",
    "mean_and_standard_deviation(D)"
   ]
  },
  {
   "cell_type": "markdown",
   "metadata": {},
   "source": [
    "<font size=8 color=\"#009600\">&#9998;</font> Do This - Erase the contents of this cell and replace it with your answer to the above questions (1-4)!  (double-click on this text to edit this cell, and hit shift+enter to save the text)"
   ]
  },
  {
   "cell_type": "code",
   "execution_count": null,
   "metadata": {},
   "outputs": [],
   "source": [
    "##Put your code here"
   ]
  },
  {
   "cell_type": "markdown",
   "metadata": {},
   "source": [
    "## Bugs that don't break your code\n",
    "\n",
    "The cells below each contain code that will run, but the result will not be correct (broken but not breaking). For each of the examples:\n",
    "1. Describe what you think the code *should* be doing.\n",
    "2. How do you know that the result of the code is incorrect?\n",
    "3. How could the code be corrected so that it will run as expect it to?\n",
    "4. Try copying and pasting the code into a new cell and correcting it as you outlined in the above question.\n",
    "\n",
    "Be sure to answer all of the questions for each piece of code."
   ]
  },
  {
   "cell_type": "markdown",
   "metadata": {},
   "source": [
    "*Code Sample 3:*"
   ]
  },
  {
   "cell_type": "code",
   "execution_count": null,
   "metadata": {},
   "outputs": [],
   "source": [
    "num = 32\n",
    "if num > 1:\n",
    "    for i in range(1,num):\n",
    "        if (num % i) == 0:\n",
    "            print(num,\"is not a prime number\")\n",
    "            print(i,\"times\",num//i,\"is\", num)\n",
    "            break\n",
    "    else:\n",
    "        print(num, \"is a prime number\")"
   ]
  },
  {
   "cell_type": "markdown",
   "metadata": {},
   "source": [
    "<font size=8 color=\"#009600\">&#9998;</font> Do This - Erase the contents of this cell and replace it with your answer to the above questions (1-4)!  (double-click on this text to edit this cell, and hit shift+enter to save the text)"
   ]
  },
  {
   "cell_type": "code",
   "execution_count": null,
   "metadata": {},
   "outputs": [],
   "source": [
    "##Try to put the correct code here"
   ]
  },
  {
   "cell_type": "markdown",
   "metadata": {},
   "source": [
    "*Code Sample 4:*"
   ]
  },
  {
   "cell_type": "code",
   "execution_count": null,
   "metadata": {},
   "outputs": [],
   "source": [
    "def factorial(num):\n",
    "    factorial = 0\n",
    "    for i in range(1, num + 1):\n",
    "        factorial = factorial + i\n",
    "    print(\"{}! =  {}\".format(num, factorial))\n",
    "    \n",
    "factorial(2)\n",
    "factorial(3)\n",
    "factorial(4)"
   ]
  },
  {
   "cell_type": "markdown",
   "metadata": {},
   "source": [
    "<font size=8 color=\"#009600\">&#9998;</font> Do This - Erase the contents of this cell and replace it with your answer to the above questions (1-4)!  (double-click on this text to edit this cell, and hit shift+enter to save the text)"
   ]
  },
  {
   "cell_type": "code",
   "execution_count": null,
   "metadata": {},
   "outputs": [],
   "source": [
    "##Try to put the correct code here"
   ]
  },
  {
   "cell_type": "markdown",
   "metadata": {},
   "source": [
    "---\n",
    "# 3. Spending more time with Git\n",
    "\n",
    "Since understanding Git takes time and practice, seeing how Git works more than once can be really useful. Watch the following video and make sure you can follow everything that the presenter is doing and then respond to the prompt below. You may notice that the presenter is using Atom, the same text editor that is highlighted in the Software Setup Guide.\n",
    "\n",
    "**Note**: The code should automatically start the video at right spot, but if for some reason it starts at the beginning, just forward to 9:01. The content in the beginning is all stuff we've covered in class. Given that this video is a bit longer than some of the other videos we've watched, you may want to experiment with playing the video at an increased speed (which is something YouTube allows you to do).\n",
    "\n",
    "**Another note**: This particular user is on a Windows machine, so if you're on a Mac or Linux machine, things will behave slightly differently but the overall details are the same. Windows users, if you've been having trouble understand how Git and Git Bash are working make sure to pay special attention to this video."
   ]
  },
  {
   "cell_type": "code",
   "execution_count": null,
   "metadata": {},
   "outputs": [],
   "source": [
    "from IPython.display import YouTubeVideo\n",
    "YouTubeVideo(\"SWYqp7iY_Tc\",width=640,height=360,start=541)"
   ]
  },
  {
   "cell_type": "markdown",
   "metadata": {},
   "source": [
    "**Provide a summary of what parts of the video you think were particularly useful, aspects that you still feel a bit unclear about, or parts are worried might cause you issues in the future.**"
   ]
  },
  {
   "cell_type": "markdown",
   "metadata": {},
   "source": [
    "*Put your response here*"
   ]
  },
  {
   "cell_type": "markdown",
   "metadata": {},
   "source": [
    "----\n",
    "\n",
    "# 4. Assignment wrap-up\n",
    "\n",
    "\n",
    "Please fill out the form that appears when you run the code below.  **You must completely fill this out in order to receive credit for the assignment!**"
   ]
  },
  {
   "cell_type": "code",
   "execution_count": null,
   "metadata": {},
   "outputs": [],
   "source": [
    "from IPython.display import HTML\n",
    "HTML(\n",
    "\"\"\"\n",
    "<iframe \n",
    "\tsrc=\"https://cmse.msu.edu/cmse202-pc-survey\" \n",
    "\twidth=\"800px\" \n",
    "\theight=\"600px\" \n",
    "\tframeborder=\"0\" \n",
    "\tmarginheight=\"0\" \n",
    "\tmarginwidth=\"0\">\n",
    "\tLoading...\n",
    "</iframe>\n",
    "\"\"\"\n",
    ")\n"
   ]
  },
  {
   "cell_type": "markdown",
   "metadata": {},
   "source": [
    "---------\n",
    "### Congratulations, you're done with your pre-class assignment!\n",
    "\n",
    "Now, you just need to submit this assignment by uploading it to the course <a href=\"https://d2l.msu.edu/\">Desire2Learn</a> web page for today's submission folder (Don't forget to add your names in the first cell)."
   ]
  },
  {
   "cell_type": "markdown",
   "metadata": {},
   "source": [
    "&#169; Copyright 2018,  Michigan State University Board of Trustees"
   ]
  }
 ],
 "metadata": {
  "anaconda-cloud": {},
  "kernelspec": {
   "display_name": "Python 3",
   "language": "python",
   "name": "python3"
  },
  "language_info": {
   "codemirror_mode": {
    "name": "ipython",
    "version": 3
   },
   "file_extension": ".py",
   "mimetype": "text/x-python",
   "name": "python",
   "nbconvert_exporter": "python",
   "pygments_lexer": "ipython3",
   "version": "3.7.4"
  }
 },
 "nbformat": 4,
 "nbformat_minor": 2
}
