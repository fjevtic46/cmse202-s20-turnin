{
 "cells": [
  {
   "cell_type": "markdown",
   "metadata": {},
   "source": [
    "### <p style=\"text-align: right;\"> &#9989; **Filip Jevtic** </p>\n",
    "#### <p style=\"text-align: right;\"> &#9989; Put your group member names here</p>"
   ]
  },
  {
   "cell_type": "markdown",
   "metadata": {
    "slideshow": {
     "slide_type": "-"
    }
   },
   "source": [
    "# Day 2 In-Class Assignment: The Command Line Interface\n",
    "<img src=\"https://blog.ssdnodes.com/blog/wp-content/uploads/2018/05/201805_faceless.gif\" width= 600>\n",
    "<p style=\"text-align: right;\">\n",
    "From <a>https://blog.ssdnodes.com/blog/blinking-cursor-distant-server/</a>\n",
    "</p>"
   ]
  },
  {
   "cell_type": "markdown",
   "metadata": {
    "slideshow": {
     "slide_type": "-"
    }
   },
   "source": [
    "## Agenda for today's class\n",
    "\n",
    "1. Review of pre-class assignment\n",
    "1. Create class directory structure using CLI\n",
    "1. Practice Downloading examples using ```git```.\n",
    "1. Group work using Google Docs\n",
    "1. Setting up a turn-in GitHub repository\n",
    "1. Assignment wrap-up\n"
   ]
  },
  {
   "cell_type": "markdown",
   "metadata": {},
   "source": [
    "---\n",
    "\n",
    "# 2. Review of pre-class assignment\n",
    "\n",
    "If there were any questions that came up about the pre-class assignment, or parts that were confusing, we'll take a few minutes to discuss those as a class. We **will not** work though the entire pre-class assignment today -- you're expected to have done the assignment yourself!"
   ]
  },
  {
   "cell_type": "markdown",
   "metadata": {},
   "source": [
    "----\n",
    "# 3. Create class directory structure using the CLI\n",
    "\n",
    "&#9989; Do This - Open a terminal or command prompt on your computer. At this point you should determine which command line interface you plan to work with for the semester.\n",
    "\n",
    "*If you're on a Mac computer*, the easiest option to to just use the \"Terminal\" application.\n",
    "\n",
    "*If you're on a Linux computer*, the easiest option is to use the \"Console\" application, assuming you're using Ubuntu. If you have another Linux operating system, the application might have a different name.\n",
    "\n",
    "*If you're on a Windows computer*, you'll probably want to use something other than the standard \"CMD\" command line interface as this interface does not use standard Linux terminal commands. If you've successfully installed Git, you should be able to locate the \"GitBash\" command line interface, which provides the functionality you will need for this course. If you don't wish to use GitBash, you're welcome to choose another option. \"Powershell\" or \"Cygwin\" are other options.\n",
    "\n",
    "If you're having issues with you location command line interface software, open a Jupyter Terminal on JupyterHub and use the command line interface available there.\n",
    "\n",
    "Once you've launch a CLI that works for you, make the following directory structure:\n",
    "\n",
    "- CMSE202\n",
    "  - repositories\n",
    "  - scratch\n",
    "  \n",
    "Ask for assistance from one of your instructors if you run into issues. We will be using this same structure the entire semester. Note that \"CMSE202\" is the main directory and \"repositories\" and \"scratch\" are subdirectories within CMSE202.\n",
    "  \n",
    "**Follow-up task**: Once you've created your directory structure, run the `ls` command in your CMSE202 directory to make sure everything looks right. `cd` into the \"repositories\" directory and run `pwd` to determine the full path of your new directory. Copy and paste the full path into a new cell below this one."
   ]
  },
  {
   "cell_type": "markdown",
   "metadata": {},
   "source": [
    "/c/Users/filip/CMSE202/repositories"
   ]
  },
  {
   "cell_type": "markdown",
   "metadata": {},
   "source": [
    "---\n",
    "# 4. Practice Downloading examples using ```git```.\n",
    "\n",
    "### Step 1: Download your first git repository\n",
    "The MSU **GitLab** is a private system designed for projects that originate at MSU. There is a repository called \"Jupyter-Examples\" which has a bunch of examples you may want to reference in class. Lets download this repository:\n",
    "\n",
    "&#9989; Do This - Change to current working directory to \"~/CMSE202/repositories\" and run the following command:  \n",
    "\n",
    "`git clone https://gitlab.msu.edu/CMSE/Jupyter-Examples.git`\n",
    "\n",
    "The above command should have created a folder named \"Jupyter-Example\" in your \"repositories\" directory.  \n",
    "\n",
    "&#9989; Do This - Use the Terminal/Command Prompt program and the Jupyter interface to navigate this new folder and look at some of the examples.  Find the \"Violin Plot\" and \"Slider_input_example\" examples and run them in the Jupyter interface. If you get any errors when you run these examples, try to understand the error output and fix the issues.\n"
   ]
  },
  {
   "cell_type": "markdown",
   "metadata": {},
   "source": [
    "\n",
    "### Step 2: Download a repository using Github\n",
    "There is also a public **GitHub** Website that has a ton of examples.  We are going to download a couple of examples to see if we can get them working:"
   ]
  },
  {
   "cell_type": "markdown",
   "metadata": {},
   "source": [
    "&#9989; Do This - Change current working directory to \"~/CMSE202/repositories\" and run the following commands:  \n",
    "\n",
    "`git clone https://github.com/fperez/science-journal-demo`\n",
    "\n",
    "**Question 1:** What does this git repository do?"
   ]
  },
  {
   "cell_type": "markdown",
   "metadata": {},
   "source": [
    "<font size=8 color=\"#009600\">&#9998;</font> Data analayis of light data."
   ]
  },
  {
   "cell_type": "markdown",
   "metadata": {},
   "source": [
    "**Question 2:** As a group, brainstorm things you could do with the tools provided in the \"science-journal\" demo.  "
   ]
  },
  {
   "cell_type": "markdown",
   "metadata": {},
   "source": [
    "<font size=8 color=\"#009600\">&#9998;</font> With the accelerometer, you could use it to track someone's path over time, and with the sound data you could model sound concetration."
   ]
  },
  {
   "cell_type": "markdown",
   "metadata": {},
   "source": [
    "**Question 3:**  Find and download the **Neural-Networks-Demystified** git repository into your repositories directory: What command did you use to download the repository?"
   ]
  },
  {
   "cell_type": "markdown",
   "metadata": {},
   "source": [
    "<font size=8 color=\"#009600\">&#9998;</font>  git clone"
   ]
  },
  {
   "cell_type": "markdown",
   "metadata": {},
   "source": [
    "---\n",
    "# 5. Group work using Google Docs\n",
    "\n",
    "In this project, we will be taking advantage of Google Docs as a classroom-wide, web-based collaboration tool. We'll use a shared Google Document to take notes as  group. If you haven't used Google Docs before, start out by going to http://docs.google.com and signing into your @msu.edu account (MSU has a Education Agreement to access some of Google's core apps using your MSU NetID credentials; [http://googleapps.msu.edu/](http://googleapps.msu.edu/)). **Note:** If you already have a google account outside of the one provided to you by MSU, you'll want to make sure you switch accounts and sign into your MSU account for this class.\n",
    "\n",
    "Once you're signed in, you can test out creating a new Google Document and exploring how you can share it with others. If you're already familiar with Google Docs and Google Drive help your group to log in an explore.\n",
    "\n",
    "For this project lets use the following Google Doc that has already been created (you must be signed into your MSU account to access this): \n",
    "\n",
    "* Section 001: https://drive.google.com/open?id=1plk8CbsTOy75foqt0Yq_AqgxIDj0kMEsMqDPKWChGHw\n",
    "\n",
    "* Section 002: https://drive.google.com/open?id=1yKcMp80Ux6z2LNqsMmzCzy6SX-i75Z0Al0v81KUOUmc\n",
    "\n",
    "* Section 003: https://drive.google.com/open?id=180hjNNbGoDBj623YFIzhnWS_Q9jykDmYEqF70kxN2CE\n",
    "\n",
    "When you create a Google Doc, you can adjust the settings so that you can just share a link to others. You can also set the permissions to be as open or as restricted as you want.  \n",
    "\n",
    "**WARNING:** <font color=\"red\">Remember, if you make a link public with full permission to edit, anyone can access and edit the Google Doc you create (if they have the URL).  While this can make collaborations quick and easy, you'll want to be careful when you go that route and avoid sharing any private information.</font>\n"
   ]
  },
  {
   "cell_type": "markdown",
   "metadata": {},
   "source": [
    "After clicking the Google Doc link above, notice that you can see who is logged into the document in the upper right. Each person who is logged in an viewing the document will have a different colored cursor that you can see move about the document.\n",
    "\n",
    "**Note:** To make sure the credit is given to the content that each person contributes, put your name in front the text that you insert into the document. For example, if your name is Devin, you might put something like \"Devin: I found a python script on GitHub that plays a Lunar Lander game, [https://github.com/dingz212445/cit590hw1Lunar_Lander](https://github.com/dingz212445/cit590hw1Lunar_Lander)\". This also helps to gauge how much everyone participates today."
   ]
  },
  {
   "cell_type": "markdown",
   "metadata": {},
   "source": [
    "**Question 4:** Search GitHub (using GitHub search and Google) for some interesting scientifically motivated examples.  Examples written in python are preferred but keep your eyes out for specific examples that use Jupyter notebooks.  What search terms did you use to find  your examples?  Mark in bold those phrases that seemed to provide the best results and add them to the class Google Doc for your Section."
   ]
  },
  {
   "cell_type": "markdown",
   "metadata": {},
   "source": [
    "<font size=8 color=\"#009600\">&#9998;</font> I searched Jupyter notebook github."
   ]
  },
  {
   "cell_type": "markdown",
   "metadata": {},
   "source": [
    "**Question 5:**  Make a bulleted list of repositories you found that were interesting. Also share some of the best URLs on the class Google Doc for your Section."
   ]
  },
  {
   "cell_type": "markdown",
   "metadata": {},
   "source": [
    "<font size=8 color=\"#009600\">&#9998;</font>  https://github.com/CamDavidsonPilon/Probabilistic-Programming-and-Bayesian-Methods-for-Hackers\n",
    "https://github.com/jakevdp/PythonDataScienceHandbook\n",
    "https://github.com/trekhleb/homemade-machine-learning\n"
   ]
  },
  {
   "cell_type": "markdown",
   "metadata": {},
   "source": [
    "**Question 6:**  Find an interesting Jupyter example(s) and get the notebook working in Jupyter. **NOTE: not all notebooks will work.** Some common reasons include:\n",
    "* Notebook requires a import module that is not included in your Python installation.\n",
    "* Notebook may be written in Python2 and your Python installation is Python3.\n",
    "* Repository may be incomplete or broken.\n",
    "\n",
    "Get at least one example working and show it to your instructor.  Bonus points for really unique examples.  Make a list of URL(s)- for the Jupyter notebooks you find and share them on the class Google Doc."
   ]
  },
  {
   "cell_type": "markdown",
   "metadata": {},
   "source": [
    "<font size=8 color=\"#009600\">&#9998;</font>\n",
    "https://github.com/unpingco/Python-for-Probability-Statistics-and-Machine-Learning"
   ]
  },
  {
   "cell_type": "markdown",
   "metadata": {},
   "source": [
    "---\n",
    "# 6. Setting a turn-in GitHub repository\n",
    "\n",
    "### Step 1: Create a GitHub account\n",
    "If you haven't done so already, go to the GitHub website and create an account using your @msu.edu email address. Then, log into GitHub. Also, request access to the [Student Pack](https://education.github.com/pack).\n",
    "\n",
    "### Step 2: Create a new _private_ GitHub repository\n",
    "\n",
    "Periodically throughout the course you will be asked to create a commit history of your CMSE 202 assignments and/or exams. You'll keep track of the files and their commit history in a **_private_** GitHub repository.\n",
    "\n",
    "You are expected to call this repository the following: `cmse202-s20-turnin` -- **Make sure it matches this directly and that it is a _private_ repository.** Then, **add your instructor and your TA as collaborators on your repository.** They will share their GitHub usernames with you in class.\n",
    "\n",
    "Once you have created the repository on GitHub **clone a copy of it to your computer in the `CMSE202/repositories` your created on your computer**.\n",
    "\n",
    "### Step 3: Copy this notebook into your new repository\n",
    "\n",
    "Now, go into your new repository and create a new folder called `day-02-in-class` (Note: _you should be doing this from the command line!_) and then carefully read all of the following commands and then execute them:\n",
    "\n",
    "1. Save this notebook\n",
    "2. Close it\n",
    "3. Make a copy of it in your new `day-02-in-class` directory.\n",
    "4. Open that new version.\n",
    "\n",
    "In the next class period, we'll figure out how to officially add that file to your course \"turnin\" repository, but for now, you're done! "
   ]
  },
  {
   "cell_type": "markdown",
   "metadata": {},
   "source": [
    "---\n"
   ]
  },
  {
   "cell_type": "markdown",
   "metadata": {},
   "source": [
    "-----\n",
    "### Congratulations, you're done with your in-class assignment!\n",
    "\n",
    "Now, you just need to submit this assignment by uploading it to the course <a href=\"https://d2l.msu.edu/\">Desire2Learn</a> web page for today's submission folder (Don't forget to add your names in the first cell)."
   ]
  },
  {
   "cell_type": "markdown",
   "metadata": {},
   "source": [
    "&#169; Copyright 2018,  Michigan State University Board of Trustees"
   ]
  }
 ],
 "metadata": {
  "anaconda-cloud": {},
  "kernelspec": {
   "display_name": "Python 3",
   "language": "python",
   "name": "python3"
  },
  "language_info": {
   "codemirror_mode": {
    "name": "ipython",
    "version": 3
   },
   "file_extension": ".py",
   "mimetype": "text/x-python",
   "name": "python",
   "nbconvert_exporter": "python",
   "pygments_lexer": "ipython3",
   "version": "3.7.0"
  }
 },
 "nbformat": 4,
 "nbformat_minor": 4
}
