{
 "cells": [
  {
   "cell_type": "markdown",
   "metadata": {
    "slideshow": {
     "slide_type": "-"
    }
   },
   "source": [
    "## <p style=\"text-align: right;\"> &#9989; Filip Jevtic</p>\n"
   ]
  },
  {
   "cell_type": "markdown",
   "metadata": {
    "slideshow": {
     "slide_type": "-"
    }
   },
   "source": [
    "# Day 5 Pre-Class Assignment: Command Line Python\n",
    "This assignment should be quick. It's main purpose is just to make sure that you're prepared to write python scripts and run them in class.  "
   ]
  },
  {
   "cell_type": "markdown",
   "metadata": {
    "slideshow": {
     "slide_type": "-"
    }
   },
   "source": [
    "## Goals for today's pre-class assignment \n",
    "\n",
    "1. Install a reliable text editor, if you don't already have one you prefer.\n",
    "1. Get more comfortable with the command line.\n",
    "1. Run a python script from the command line.\n"
   ]
  },
  {
   "cell_type": "markdown",
   "metadata": {},
   "source": [
    "## Assignment instructions\n",
    "\n",
    "**This assignment is due by 11:59 p.m. the day before class** and should be uploaded into the appropriate \"Pre-class assignments\" dropbox folder in the Desire to learn website. "
   ]
  },
  {
   "cell_type": "markdown",
   "metadata": {},
   "source": [
    "# 1. Writing code on your computer with a text editor\n",
    "\n",
    "Although Jupyter Notebooks can be a great place for working with Python code, testing and designing new functions or modules, and writing nicely formatted markdown text, they can occasionally feel clunky and hard to work with. Sometimes your code might not work because you've accidentally run the code out of order or something goes wrong and your jupyter server dies and then it seems like your code won't run at all.\n",
    "\n",
    "Once you start to become a more proficient programmer, working within the bounds of a jupyter notebook can be limiting and in some cases frustrating. Furthermore, using version control with jupyter notebooks can be confusing at times, owing to a lot of extra tracked changes that are more related to the jupyter notebook format than to your actual code.\n",
    "\n",
    "In order to move away from jupyter notebooks and on to writing python scripts that you run on the command line, the first step is making sure that you have a text editor that you feel comfortable with. Common options include vi/vim, emacs, or nano. There are also newer text editors that have been developed by programmers looking for better options, like Atom (https://atom.io/), which even includes and interface for working Git repositories (https://github.atom.io/).\n",
    "\n",
    "**Assignment Task**: If you haven't already decided on a text editor that you are comfortable using to write code on your computer, now's the time to pick something and try to get used to using it. If you don't already have a preferred editor, I encourage you to try Atom, which you can install by going to https://atom.io/, downloading the installer, and following the installation instructions that are appropriate for your operating system, which you can find here: http://flight-manual.atom.io/getting-started/sections/installing-atom/. For the Mac users, make sure you get Atom to install the command line functions so that you can run Atom from the command line.\n",
    "\n",
    "**Edit the cell below to indicate what text editor you plan to use.**"
   ]
  },
  {
   "cell_type": "markdown",
   "metadata": {},
   "source": [
    "**Chosen text editor**: Atom"
   ]
  },
  {
   "cell_type": "markdown",
   "metadata": {},
   "source": [
    "----\n",
    "## 2. Using the command line\n",
    "\n",
    "At this point in the course, you've already been using the command line a fair amount. Hopefully you've started to get comfortable with using it and you've found an command line program that works well for you. If you haven't found something you like you could consider other options.\n",
    "\n",
    "For Windows users, the standard CMD prompt can be a little awkward to work with. You could consider PowerShell (details here: https://msdn.microsoft.com/en-us/powershell/mt173057.aspx) or, once you've installed Git, you can use the \"Git Bash\" prompt (**highly recommended!**), which you should be able to access however you normally access applications on your computer or potentially by right-clicking on your desktop. There's also other options like Cygwin (http://www.cygwin.com/). Whichever version you choose, you should make sure you have access to all of the commands that we've been using so far in the course. **Important note**: the instructors recommend using Git Bash, unless you're already comfortable with one of the other options. If you choose a different option, instructor support for that option will be more limited.\n",
    "\n",
    "For Mac users, there default Terminal is pretty good, you could also consider iTerm2 (https://www.iterm2.com/).\n",
    "\n",
    "For Linux users, the standard Console application is normally sufficient, but there is nearly limitless customizations and options out there.\n",
    "\n",
    "**Assignment Task**: Decide on what command line interface you plan to use for the course. You should be able to move around directories, make directories, run git commands, launch jupyter notebooks, and run python all from the same location, ideally. If you're having issues with get all of this to work, you may need to try to come by office hours or schedule an appointment to get some assistance.\n",
    "\n",
    "**Write your chosen command line program below**."
   ]
  },
  {
   "cell_type": "markdown",
   "metadata": {},
   "source": [
    "**Chosen command line program**: Gitbash"
   ]
  },
  {
   "cell_type": "markdown",
   "metadata": {},
   "source": [
    "## 3. Running some sample Python code\n",
    "\n",
    "Now that you have a text editor and a command line program ready to use, the critical test is checking to make sure that everything is good to go. In the pre-class folder of the course assignments repository, along with this jupyter notebook, you may have noticed a file call \"fib.py\". This is very simple piece of code that prints out the Fibonnaci sequence, which should be: 0, 1, 1, 2, 3, 5, 8, 13, 21, ...\n",
    "\n",
    "Try running the code on the command line by doing the following on the command line:\n",
    "\n",
    "<code>$ python fib.py</code> \n",
    "\n",
    "It looks like there is a bug in this code. Open the file in your preferred text editor and try to figure out what going wrong. Try to fix the code, save the file, and then run it again.\n",
    "\n",
    "Did it work? Write down what the bug was in the cell below."
   ]
  },
  {
   "cell_type": "markdown",
   "metadata": {},
   "source": [
    "**What was the bug?**: Error while finding spec for 'fibo.py' (<class 'AttributeError'>: 'module' object has no attribute '__path__')"
   ]
  },
  {
   "cell_type": "markdown",
   "metadata": {},
   "source": [
    "**Note**: If you're running into issues getting Python to run from the command line, contact your instructors as soon as possible. There might be a simple solution!"
   ]
  },
  {
   "cell_type": "markdown",
   "metadata": {},
   "source": [
    "----\n",
    "\n",
    "## 4. Assignment wrap-up\n",
    "\n",
    "\n",
    "Please fill out the form that appears when you run the code below.  **You must completely fill this out in order to receive credit for the assignment!**"
   ]
  },
  {
   "cell_type": "code",
   "execution_count": 1,
   "metadata": {},
   "outputs": [
    {
     "data": {
      "text/html": [
       "\n",
       "<iframe \n",
       "\tsrc=\"https://cmse.msu.edu/cmse202-pc-survey\" \n",
       "\twidth=\"800px\" \n",
       "\theight=\"600px\" \n",
       "\tframeborder=\"0\" \n",
       "\tmarginheight=\"0\" \n",
       "\tmarginwidth=\"0\">\n",
       "\tLoading...\n",
       "</iframe>\n"
      ],
      "text/plain": [
       "<IPython.core.display.HTML object>"
      ]
     },
     "execution_count": 1,
     "metadata": {},
     "output_type": "execute_result"
    }
   ],
   "source": [
    "from IPython.display import HTML\n",
    "HTML(\n",
    "\"\"\"\n",
    "<iframe \n",
    "\tsrc=\"https://cmse.msu.edu/cmse202-pc-survey\" \n",
    "\twidth=\"800px\" \n",
    "\theight=\"600px\" \n",
    "\tframeborder=\"0\" \n",
    "\tmarginheight=\"0\" \n",
    "\tmarginwidth=\"0\">\n",
    "\tLoading...\n",
    "</iframe>\n",
    "\"\"\"\n",
    ")"
   ]
  },
  {
   "cell_type": "markdown",
   "metadata": {},
   "source": [
    "---------\n",
    "### Congratulations, you're done with your pre-class assignment!\n",
    "\n",
    "Now, you just need to submit this assignment by uploading it to the course <a href=\"https://d2l.msu.edu/\">Desire2Learn</a> web page for the appropriate pre-class dropbox (Don't forget to add your names in the first cell)."
   ]
  },
  {
   "cell_type": "markdown",
   "metadata": {},
   "source": [
    "&#169; Copyright 2018,  Michigan State University Board of Trustees"
   ]
  }
 ],
 "metadata": {
  "anaconda-cloud": {},
  "kernelspec": {
   "display_name": "Python 3",
   "language": "python",
   "name": "python3"
  },
  "language_info": {
   "codemirror_mode": {
    "name": "ipython",
    "version": 3
   },
   "file_extension": ".py",
   "mimetype": "text/x-python",
   "name": "python",
   "nbconvert_exporter": "python",
   "pygments_lexer": "ipython3",
   "version": "3.7.0"
  }
 },
 "nbformat": 4,
 "nbformat_minor": 2
}
