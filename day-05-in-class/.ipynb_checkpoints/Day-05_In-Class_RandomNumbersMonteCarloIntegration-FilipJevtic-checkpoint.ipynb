{
 "cells": [
  {
   "cell_type": "markdown",
   "metadata": {
    "slideshow": {
     "slide_type": "-"
    }
   },
   "source": [
    "## <p style=\"text-align: right;\"> &#9989; Put your name here</p>\n",
    "#### <p style=\"text-align: right;\"> &#9989; Put your group member names here</p>"
   ]
  },
  {
   "cell_type": "markdown",
   "metadata": {
    "slideshow": {
     "slide_type": "-"
    }
   },
   "source": [
    "# Day 5 In-Class Assignment: Random numbers and Monte Carlo Integration with Python scripts\n",
    "\n",
    "<img src=\"https://upload.wikimedia.org/wikipedia/commons/thumb/f/fb/Darts_in_a_dartboard.jpg/1200px-Darts_in_a_dartboard.jpg\" width=400px>"
   ]
  },
  {
   "cell_type": "markdown",
   "metadata": {
    "slideshow": {
     "slide_type": "-"
    }
   },
   "source": [
    "### Agenda for today's class\n",
    "\n",
    "1. Review of pre-class assignment\n",
    "1. Random Numbers\n",
    "1. Monte Carlo Integration using a Python script\n",
    "\n",
    "\n",
    "### Learning goals:\n",
    "\n",
    "By the end of this assignment, you should be able to:\n",
    "\n",
    "* Explain why \"random\" numbers from random number generators aren't truly random\n",
    "* Compute the area inside a region using Monte Carlo integration\n",
    "* Write and run Python scripts on the command line."
   ]
  },
  {
   "cell_type": "markdown",
   "metadata": {},
   "source": [
    "----\n",
    "# 1. Review of pre-class assignment\n",
    "\n",
    "Does everyone have a text editor that they are happy with an a command line interface that works?\n",
    "\n",
    "* What terminal is everyone at your table using? Why did they choose that option?\n",
    "\n",
    "&#9989; Do This -  Write your disussion notes here.\n",
    "\n",
    "* What did everyone at your table choose for their text editor? Why or why not?\n",
    "\n",
    "&#9989; Do This -  Write your disussion notes here.\n",
    "\n",
    "* Computers are deterministic devices.  How might computers generate random numbers?\n",
    "\n",
    "&#9989; Do This -  Write your disussion notes here.\n",
    "\n"
   ]
  },
  {
   "cell_type": "markdown",
   "metadata": {},
   "source": [
    "---\n",
    "# 2. Random Numbers\n",
    "\n",
    "There are many real world scenarios in which generating random numbers can be extremely useful, e.g. gambling and cryptography. Random numbers are also commonly used in computational modeling and data science. However, getting a computer to generate a truly random number is not a trivial task.\n",
    "\n",
    "Computers are, by their nature, very deterministic devices. If I know the state of my device at a given point in time, it's possible to predict all future states. As a result, when computers generate random numbers, they're actually only generating pseudo random numbers. Starting with some initial value, normally called the seed, the computer uses an algorithm to create a sequence of seemingly random numbers. In reality, the sequence will eventually repeat. This is true of all pseudorandom number generators, but not all random number generators are created equal. Better random number generators have higher periodicity, meaning that you can generate more random numbers before the sequence repeats itself. \n",
    "\n",
    "Here is a very simply example of an algorithm for producing a random number:\n",
    "\n",
    "$I_{j+1} = (11371~I_{j} + 4132)\\mod 4096$\n",
    "\n",
    "where \"mod\" is the modulus operator. This algorithm will produce a random number in the range of 0 to 4096. That's not a particularly large range if we want to be able to generate *a lot* of random numbers.\n",
    "\n",
    "**Task**: Starting with an initial seed of your choosing, generate 8192 random numbers using the example algorithm. Does the sequence repeat itself? How can you tell?"
   ]
  },
  {
   "cell_type": "code",
   "execution_count": null,
   "metadata": {},
   "outputs": [],
   "source": [
    "#\n",
    "# Put you code here for generating random numbers using the algorithm above\n",
    "#"
   ]
  },
  {
   "cell_type": "markdown",
   "metadata": {},
   "source": [
    "Clearly, if you were to rely on a number generator like that one and you were doing anything sufficiently complex or sizable, you probably wouldn't get very high quality results. (and let's be clear, *never* use this random number generator outside of this in-class activity). \n",
    "\n",
    "Luckily there are people who have worked to create really good random number generators and many open source packages make use of these ones. For example, both Python and Numpy's \"random\" modules make use of the Mersenne Twister (https://en.wikipedia.org/wiki/Mersenne_Twister), which has a very high periodicity and is one of the most commonly used random number generators. When doing work in computational and data science, it is important that you trust your random number generator and you're aware of any shortcomings! \n",
    "\n",
    "**For the rest of this notebook** please use the `random` module of python. Take a look at the various functions within `random` so you might take advantage of them in the rest of this notebook"
   ]
  },
  {
   "cell_type": "markdown",
   "metadata": {},
   "source": [
    "-----\n",
    "# 3. Monte Carlo Integration\n",
    "\n",
    "While there are many uses of random number generators, including some that might come up later on in this class, we're going to look at a relatively straight forward application today, Monte Carlo integration. Some of you might have seen this previously -- that's OK. The main purpose of this assignment is to get you to practice writing and running a Python script!\n",
    "\n",
    "The basic idea is pretty simple. You have some function, say $f(\\vec{x})$, and you want to know the area (2D) or volume (3D) enclosed by the function. Using Monte Carlo integration, you draw a bounding box around the area/volume of interest and then randomly scatter points throughout that region -- similar to throwing darts randomly at a dart board. This might produce a result that looks something like this:\n",
    "\n",
    "<img src=\"http://xaktly.com/Images/Mathematics/NumericalIntegration/MonteCarloIntegrationSchematic.png\" width=250px>\n",
    "\n",
    "where the colored points are the ones inside the region of interest.\n",
    "\n",
    "Once you've done this, you can compute the area or volume enclose by the function by looking at how many points ended up inside that area or volume. For area, this calculation would look something like this:\n",
    "\n",
    "### $A_{\\mathrm{enclosed}} \\approx A_{\\mathrm{bounding\\ box}} \\times \\frac{\\mathrm{points\\ enclosed}}{\\mathrm{all\\ points\\ inside\\ the\\ bounding\\ box}}$\n",
    "\n",
    "where \"$A$\" is the area. The same relationship would apply in three dimensions.\n",
    "\n",
    "If we compare this to how we'd normally use calculus to compute the area, we'd use an integral of the form: \n",
    "\n",
    "### $\\int_{}^{} f(\\vec{x}) dA$\n",
    "\n",
    "where we integrate over the enclosed region.\n",
    "\n",
    "In the case of our Monte Carlo integration, we can think of $dA$ as being some finite area $\\Delta A$, which is related to the total number of random points we use in the following way:\n",
    "\n",
    "### $\\Delta A \\sim A_{\\mathrm{bounding\\ box}}/N_{\\mathrm{points}}$\n",
    "\n",
    "where $N_{\\mathrm{points}}$ is *all* of the points, not just those within the enclosed region. Given this, we should expect that as we increase the total number of points we use, we should begin to approach the real value of the integral.\n",
    "\n",
    "### Assigned Task: A Python Script (outside of a notebook)\n",
    "\n",
    "Use the Monte Carlo integration method to **write a Python script** (code written in your editor) that can be run on the command line to compute the area of a 2D donut that looks like this:\n",
    "\n",
    "<img src=\"https://i.imgur.com/d3CgKtO.png\" width=300px>\n",
    "\n",
    "Assume that the outer radius is one unit radius, $r=1$, and the inner radius is half of that, $r=0.5$. Use the python `random` module to generation random numbers that, as 2D points, fit inside the box. Start with $N_{\\mathrm{points}}=16$, and then see how your answer changes as you successively double the number of points you use. You should determine how accurate your answer is by computating a fractional error for you solution of the form:\n",
    "\n",
    "## $E = \\frac{\\lvert A_{\\mathrm{computed}} - A_{\\mathrm{real}}\\rvert}{A_{\\mathrm{real}}}$\n",
    "\n",
    "**Plot this error value as a function of the number of points you use**. How does the error between your estimated solution and the analytic solution decrease as a function of the number of points used, $N_{\\mathrm{points}}$?\n",
    "\n",
    "**Requirement**: Develop the code in your \"turn-in\" repository. Commit your files and any changes you make along the way and make sure to push your solutions to GitHub. **Commit a plot to the repository that shows how the error changes as a function of $N$**.\n",
    "\n",
    "**If you don't have access to unlimited private GitHub repositories yet, submit a request for the student pack [here](https://education.github.com/pack) and use GitLab (https://gitlab.msu.edu/) for today's assignment.**\n",
    "\n",
    "**If you have time**: Try using the simple random number generator we created earlier in the assignment to compute the area. What happens as the number of points get large?"
   ]
  },
  {
   "cell_type": "markdown",
   "metadata": {},
   "source": [
    "---------\n",
    "### How to finish this assignment!\n",
    "\n",
    "Given that have writtent a separate script, we ask that you turn in two elements to D2L:\n",
    "* your script\n",
    "* this notebook (don't forget to add your name to the first cell)\n",
    "Now, you just need to submit this assignment by uploading both the notebook and the script.\n",
    "\n",
    "**Also**: Make sure you commit all outstanding changes to your new code repository and push those changes to GitHub!"
   ]
  },
  {
   "cell_type": "markdown",
   "metadata": {},
   "source": [
    "&#169; Copyright 2018,  Michigan State University Board of Trustees"
   ]
  }
 ],
 "metadata": {
  "anaconda-cloud": {},
  "kernelspec": {
   "display_name": "Python 3",
   "language": "python",
   "name": "python3"
  },
  "language_info": {
   "codemirror_mode": {
    "name": "ipython",
    "version": 3
   },
   "file_extension": ".py",
   "mimetype": "text/x-python",
   "name": "python",
   "nbconvert_exporter": "python",
   "pygments_lexer": "ipython3",
   "version": "3.7.4"
  }
 },
 "nbformat": 4,
 "nbformat_minor": 4
}
