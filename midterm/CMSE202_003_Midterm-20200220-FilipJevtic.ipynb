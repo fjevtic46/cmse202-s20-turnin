{
 "cells": [
  {
   "cell_type": "markdown",
   "metadata": {},
   "source": [
    "## <p style=\"text-align: right;\"> &#9989; Filip Jevtic</p>"
   ]
  },
  {
   "cell_type": "markdown",
   "metadata": {},
   "source": [
    "# CMSE 202 Midterm (Section 003 - Spring 2020)\n",
    "\n",
    "The goal of this midterm is to give you the opportunity to test out some of the skills that you've developed thus far this semester. In particular, you'll practice setting up a GitHub repository, committing and pushing repository changes, downloading files with command line tools, using documentation to learn about an unfamiliar function, and understand and edit a python class. You should find that you have all of the skills necessary to complete this exam with even just six weeks of CMSE 202 under your belt!\n",
    "\n",
    "**You are encouraged to look through the entire exam before you get started so that you can appropriately budget your time and understand the broad goals of the exam.  If you get stuck on a problem, move on to the next section and return later.**\n",
    "\n",
    "At the end of the exam, upload your solutions to D2L push your changes to your git repository. \n",
    "\n",
    "**Important note about using online resources**: This exam is \"open internet\". That means that you can look up documentation, google how to accomplish certain Python tasks, etc. Being able to effectively use the internet for computational modeling and data science is a very important skill, so we want to make sure you have the opportunity to exercise that skill. **However**: The use of any person-to-person communication software is absolutely not acceptable. If you are seen accessing your email, looking up any past jupyter notebook assignments, using a chat program (e.g. Slack), or any sort of collaborative cloud storage or document software (e.g. Google Documents), you will be at risk for receiving a zero on the exam.\n",
    "\n",
    "**Keep your eyes on your screen!** Unfortunately, there isn't enough space in the room for everyone to sit at their own table so please do your best to keep your eyes on your own screen. This exam is designed to give *you* the opportunity to show the instructor what you can do and you should hold yourself accountable for maintaining a high level of academic integrity. If any of the instructors observe suspicious behavior, you will, again, risk receiving a zero."
   ]
  },
  {
   "cell_type": "markdown",
   "metadata": {},
   "source": [
    "---\n",
    "## Part 1: Setting up a repository for tracking changes (20 points)\n",
    "\n",
    "Before you get too far along in the assignment, you need to set up a new folder in your **private** GitHub repository that you created for the course. You will store this notebook in that folder and track the changes as you make them. For this section you should:\n",
    "\n",
    "1. Navigate to your local copy of your \"`cmse202-s20-turnin`\" repository.\n",
    "2. In the repository, create a new directory called \"`midterm`\".\n",
    "3. Move this notebook into that new directory within your repository.\n",
    "4. Add the notebook file to your git repository with the appropriate git command.\n",
    "5. Commit the addition to your repository using the appropriate git command.\n",
    "6. Finally, to test that everything is working, \"git push\" the file so that it ends up in your GitHub repository.\n",
    "\n",
    "**Make sure that your TA have access to the repository (this should already be the case). Your TA's GitHub username is genster6.**\n",
    "\n",
    "From this point on you will occasionally be asked to save the state of your notebook, commit the changes, and push it to your new repository.\n",
    "\n",
    "**Note**: If you're struggling with getting the Git repository set up correctly with this new directory, you can always just work on the notebook as is and try to come back and figure out the repository component later. You may lose some points though since you won't have periodic commits as you make progress along the way, but it will be better than not working on the other parts of the exam!"
   ]
  },
  {
   "cell_type": "markdown",
   "metadata": {},
   "source": [
    "---\n",
    "## Part 2: Loading/Reading unfamiliar data in Python (10 points)\n",
    "\n",
    "Your first task is to figure out how to open and read file Tibet_seismic_wavespeeds_perturbations.ascii (downloaded from D2L) using Python. This file is actually ASCII file, which is text file in which each byte represents one character according to the ASCII code. You can use either numpy.loadtxt or pandas to load this file.\n",
    "\n",
    "There are four columns in file Tibet_seismic_wavespeeds_perturbations.ascii.\n",
    "\n",
    "**Column 1: longitude (in degrees)**\n",
    "\n",
    "**Column 2: latitude (in degrees)**\n",
    "\n",
    "**Column 3: depth (in kilometers)**\n",
    "\n",
    "**Column 4: seismic wavespeed anomalies (in %)**\n",
    "\n",
    "The file contains the seismic properties of the Earth's interior (i.e., seismic wavespeed anomalies) on a 3-D grid of regularly spaced points defined by longitude, latitude, and depth.\n",
    "\n",
    "1. Write the code below to load the .ascii file in python.\n",
    "2. Once you've loaded the data, print out the minimum and maximum values of depth and seismic wavespeed anomalies."
   ]
  },
  {
   "cell_type": "code",
   "execution_count": 27,
   "metadata": {},
   "outputs": [
    {
     "name": "stdout",
     "output_type": "stream",
     "text": [
      "The max depth is:  800.0  and the min depth is:  80.0\n",
      "The max seismic wavespeed anomaly is:  6.4912  and the min seismic wavespeed anomaly is:  -7.0826\n"
     ]
    }
   ],
   "source": [
    "# Put your code here\n",
    "import numpy as np\n",
    "import pandas as pd\n",
    "tibet = np.loadtxt(\"Tibet_seismic_wavespeeds_perturbations.ascii\")\n",
    "longitude = tibet.T[0]\n",
    "latitude = tibet.T[1]\n",
    "depth = tibet.T[2]\n",
    "seism = tibet.T[3]\n",
    "max_depth = np.max(depth)\n",
    "min_depth = np.min(depth)\n",
    "max_seism = np.max(seism)\n",
    "min_seism = np.min(seism)\n",
    "print(\"The max depth is: \",max_depth,\" and the min depth is: \",min_depth)\n",
    "print(\"The max seismic wavespeed anomaly is: \", max_seism, \" and the min seismic wavespeed anomaly is: \",min_seism)"
   ]
  },
  {
   "cell_type": "markdown",
   "metadata": {},
   "source": [
    "---\n",
    "### STOP: Save the current state of your notebook, commit the changes to your local repository and push those changes to the remote repository. Use the commit message \"Committing Part 2\". \n",
    "---"
   ]
  },
  {
   "cell_type": "markdown",
   "metadata": {},
   "source": [
    "## Part 3: Visualize the data ( 15 points) "
   ]
  },
  {
   "cell_type": "markdown",
   "metadata": {},
   "source": [
    "**3.** What does this data look like? **Make a slice map of seismic wavespeed anomalies by extracting the longitudes, latitudes, and seismic wavespeed anomalies at a depth of 80 km. The depth slice map can be made using a scatter plots where the colors are defined by the seismic wavespeed anomalies and using the longitude values as X axis and latitude values as Y axis. (15 points)**\n",
    "\n",
    "**Hint:** you can use `np.where()` to find the indices where the depth values are equal to 80 and then used those indices to make your plot.\n",
    "\n",
    "Your scatter plot should look something like the following:\n",
    "\n",
    "<img src=\"https://i.imgur.com/VZFaJJQ.png\">"
   ]
  },
  {
   "cell_type": "code",
   "execution_count": 98,
   "metadata": {},
   "outputs": [
    {
     "data": {
      "text/plain": [
       "Text(0.5,1,'depth = 80 km')"
      ]
     },
     "execution_count": 98,
     "metadata": {},
     "output_type": "execute_result"
    },
    {
     "data": {
      "image/png": "[encoded data removed]",
      "text/plain": [
       "<Figure size 432x288 with 1 Axes>"
      ]
     },
     "metadata": {
      "needs_background": "light"
     },
     "output_type": "display_data"
    }
   ],
   "source": [
    "# Put your code here\n",
    "import matplotlib.pyplot as plt\n",
    "import matplotlib.cm as cm\n",
    "where = np.where(depth == 80)[0]\n",
    "color = []\n",
    "for i in where:\n",
    "    cmap.append(seism[i])\n",
    "color = np.array(cmap)\n",
    "colors = cm.rainbow(np.linspace(0, 1, len(color)))\n",
    "\n",
    "for i in where:\n",
    "    plt.scatter(longitude[i],latitude[i])\n",
    "    \n",
    "plt.xlabel(\"Longitude\")\n",
    "plt.ylabel(\"Latitude\")\n",
    "plt.title(\"depth = 80 km\")"
   ]
  },
  {
   "cell_type": "markdown",
   "metadata": {},
   "source": [
    "---\n",
    "### STOP: Save the current state of your notebook, commit the changes to your local repository and push those changes to the remote repository. Use the commit message \"Committing Part 3\". \n",
    "---"
   ]
  },
  {
   "cell_type": "markdown",
   "metadata": {},
   "source": [
    "## Part 4: Draw a weighted graph by reading in the weighted edge list. (10 points)"
   ]
  },
  {
   "cell_type": "markdown",
   "metadata": {},
   "source": [
    "Please use the provided weighted edge list (weighted_edge_list.txt) to read a graph as a list of edges with numeric weights. Draw a network of nodes and use the thickness of the edges between the nodes to denote the weight information. Please also label the nodes.\n",
    "You may find the following links useful.\n",
    "\n",
    "https://networkx.github.io/documentation/networkx-1.10/reference/generated/networkx.readwrite.edgelist.read_weighted_edgelist.html\n",
    "\n",
    "https://qxf2.com/blog/drawing-weighted-graphs-with-networkx/\n",
    "\n",
    "Your graph should look something like the following:\n",
    "<img src=\"https://i.imgur.com/yVkeyPI.png\">"
   ]
  },
  {
   "cell_type": "code",
   "execution_count": 67,
   "metadata": {},
   "outputs": [
    {
     "data": {
      "image/png": "[encoded data removed]",
      "text/plain": [
       "<Figure size 432x288 with 1 Axes>"
      ]
     },
     "metadata": {
      "needs_background": "light"
     },
     "output_type": "display_data"
    }
   ],
   "source": [
    "# Put your code here\n",
    "%matplotlib inline\n",
    "import networkx as nx\n",
    "import warnings\n",
    "import numpy as np\n",
    "import matplotlib.pyplot as plt\n",
    "warnings.filterwarnings(\"ignore\", category=UserWarning)\n",
    "\n",
    "\n",
    "G = nx.Graph()\n",
    "nodes = [1,2,3,4,5]\n",
    "for node in nodes:\n",
    "    G.add_node(node)\n",
    "\n",
    "\n",
    "pos={1:(0,0),2:(1,-4),3:(2,-2),4:(3,-1),5:(4,0)}\n",
    "nx.draw_networkx_nodes(G,pos,node_color='blue')\n",
    "\n",
    "labels = {}\n",
    "for name in nodes:\n",
    "    labels[name] =str(name)\n",
    "nx.draw_networkx_labels(G,pos,labels,font_size=10)\n",
    "\n",
    "\n",
    "G.add_edge(nodes[0],nodes[1],weight=15)\n",
    "G.add_edge(nodes[0],nodes[2],weight=50)\n",
    "G.add_edge(nodes[1],nodes[2],weight=100)\n",
    "G.add_edge(nodes[2],nodes[3],weight=200) \n",
    "G.add_edge(nodes[3],nodes[4],weight=70) \n",
    " \n",
    "weight_list = []\n",
    "\n",
    "for (first_node,sec_node,data) in G.edges(data=True):\n",
    "    weight_list.append(data['weight'])\n",
    "    \n",
    "unique = list(set(weight_list))\n",
    "\n",
    "for weight in unique:\n",
    "    weighted_edges = [(first_node,sec_node) for (first_node,sec_node,edge_attr) in G.edges(data=True) if edge_attr['weight']==weight]\n",
    "    width = weight*len(nodes)*3.0/sum(weight_list)\n",
    "    nx.draw_networkx_edges(G,pos,edgelist=weighted_edges,width=width)\n",
    "    plt.axis('off')\n"
   ]
  },
  {
   "cell_type": "markdown",
   "metadata": {},
   "source": [
    "---\n",
    "### STOP: Save the current state of your notebook, commit the changes to your local repository and push those changes to the remote repository. Use the commit message \"Committing Part 4\".\n",
    "---"
   ]
  },
  {
   "cell_type": "markdown",
   "metadata": {},
   "source": [
    "## Part 5: Use Euler's method and Midpoint method to solve an ordinary differential equation (ODE) (25 points)\n",
    "\n",
    "Suppose we have an ODE of the form:\n",
    "\\begin{equation}\n",
    "\\frac{d y}{d t}  = y - t^2 + 1  \n",
    "\\end{equation}\n",
    "\n",
    "with time $t$ in the domain of $0 \\leqslant t \\leqslant 2.0$ and the initial condition (when $t_0 = 0$) of \\begin{equation} y(0) = 0.5 \\end{equation} \n",
    "\n",
    "You can generate approximate solutions of the ODE at some regular grid of time steps ($t_i = t_0 + ih$) using numerical methods, such as the [Euler's method](https://en.wikipedia.org/wiki/Euler_method) and the [Midpoint method](https://en.wikipedia.org/wiki/Midpoint_method).\n",
    "\n",
    "Assume that there are N time steps between the starting time $t_0 = 0$ and the end time $t_e = 2.0$, then the step size is given by $h =  (t_e - t_0)/N $ and $i = 0, 1 , 2, ..., N$.\n",
    "\n",
    "For reference, the exact (analytical) solution of the ODE is:\n",
    "\\begin{equation}\n",
    "y(t)  = ( t + 1) ^2 - 0.5e^t  \n",
    "\\end{equation}"
   ]
  },
  {
   "cell_type": "markdown",
   "metadata": {},
   "source": [
    "**5.1 Define a function of the exact solution and plot the exact solution on regular grid of time steps between $t_0 = 0$ and $t_e = 2.0$ with number of time steps of N = 10. (7 points)**"
   ]
  },
  {
   "cell_type": "code",
   "execution_count": 71,
   "metadata": {},
   "outputs": [
    {
     "data": {
      "text/plain": [
       "[<matplotlib.lines.Line2D at 0x179b3f71518>]"
      ]
     },
     "execution_count": 71,
     "metadata": {},
     "output_type": "execute_result"
    },
    {
     "data": {
      "image/png": "[encoded data removed]",
      "text/plain": [
       "<Figure size 432x288 with 1 Axes>"
      ]
     },
     "metadata": {
      "needs_background": "light"
     },
     "output_type": "display_data"
    }
   ],
   "source": [
    "# Put your code here\n",
    "import math\n",
    "\n",
    "def exact(t0,te,n):\n",
    "    exact_list = []\n",
    "    t_list = []\n",
    "    steps = (te-t0)/n\n",
    "    while t0 <= te:\n",
    "        result = (t0 + 1)**2 - 0.5*math.exp(t0)\n",
    "        exact_list.append(result)\n",
    "        t_list.append(t0)\n",
    "        t0 += steps\n",
    "    return t_list,exact_list\n",
    "t,exact_val = exact(0,2,10)\n",
    "plt.scatter(t,exact_val)\n",
    "plt.plot(t,exact_val)\n",
    "        \n",
    "        "
   ]
  },
  {
   "cell_type": "markdown",
   "metadata": {},
   "source": [
    "**5.2 Use the [Euler's method](https://en.wikipedia.org/wiki/Euler_method) to solve the equation. Plot the numerical solution from Euler's method against the exact solution between $t_0$ and $t_e$ on regular grid of time steps with number of time steps N = 10. (7 points)**"
   ]
  },
  {
   "cell_type": "code",
   "execution_count": null,
   "metadata": {},
   "outputs": [],
   "source": [
    "# Put your code here\n",
    "time = np.arange\n"
   ]
  },
  {
   "cell_type": "markdown",
   "metadata": {},
   "source": [
    "**5.3 Use the [Midpoint method](https://en.wikipedia.org/wiki/Midpoint_method) to solve the euqation. Plot the numerical solution from midpoint method along with the solution from the Euler's method and the exact solution. Please still use the number of time steps of N = 10. (6 points)**"
   ]
  },
  {
   "cell_type": "code",
   "execution_count": null,
   "metadata": {},
   "outputs": [],
   "source": [
    "# Put your code here"
   ]
  },
  {
   "cell_type": "markdown",
   "metadata": {},
   "source": [
    "**5.4 Error of the numerical solutions (5 points)**\n",
    "1. Please calculate and print out the error of the numerical solution at the end time $t_e = 2.0$ for the Euler's method and the midpoint method respectively with number of time steps of N = 10. The error can be defined as the absolute difference between the numerical solution and the exact solution.\n",
    "2. If you compare the errors resulted from both methods, you will find that the midpoint method has smaller error thus higher accuracy. In order for Euler's method to obtain the same accuracy as the Midpoint method with N = 10, please try a set of N values for the Euler's method (N = 100, 200, 300, 400, 500, 600, 700, 800) and determine which of these N values can result an error equal or less than the error from the Midpoint method (assume the Midpoint method still uses N = 10)."
   ]
  },
  {
   "cell_type": "code",
   "execution_count": null,
   "metadata": {},
   "outputs": [],
   "source": [
    "# Put your code here"
   ]
  },
  {
   "cell_type": "markdown",
   "metadata": {},
   "source": [
    "---\n",
    "## Part 6: Writing a simple Python class (20 points)\n",
    "\n",
    "For this section, you're going to expand on the pre-existing Python class contained in the cell below. The class is called `Volcano` and, not surprisingly, it is designed to store information about an individual volcano and currently just includes one simple method, one that returns the volcano's ID number (volcano_id). Using this class as a starting point, you goal is to do the following:\n",
    "\n",
    "* Add two new attributes, `country` and ` likelihood_of_an_eruption` to the class so that it is defined when the class object is first initialized. These attributes define in which country the volcano is located and the estimated likelihood of a future eruption, i.e., a value assigned between 0 and 1 and with 1 indicating the volcano being most likely to erupt. \n",
    "* Modify and replace `get_volcano_id` with a new class method, `get_volcano_id_likelihood`, that returns both the volcano_id and likelihood_of_an_eruption.\n",
    "* Add a new class method, `identify_volcano_type`, that takes as input a list of seven volcano types (volcano_types = ['dome', 'cone', 'crater', 'vent', 'shield', 'caldera', 'stratovolcano']\n",
    ") and adds one of them (randomly selected) as an attribute to the volcano.\n",
    "* Add a new class method, `display_volcano_type`, that prints out: <br>\n",
    "\"Volcano < volcano_id > in < country > is a < volcano_type >\" <br>\n",
    "where the < volcano_type > part is filled in with the volcano type from the volcano type list added by the `identify_volcano_type` method.\n",
    "\n",
    "Then, **using the `volcano_list` provided below, create a list of `Volcano` objects that contain the information for each volcano. Using your list of volcanos, randomly identify each of them in one of those seven volcano types mentioned above** You should identify the volcanoes using your `identify_volcano_type` method.\n",
    "\n",
    "Once you've identified all of your volcanoes, **use your volcano list to print the relevant information for every volcano using your `identify_volcano_type` method**:\n",
    "\n",
    "Finally, **print the list of volcano_id sorted by the the likelihood_of_an_eruption from most likely to unlikely. Note: you must use the class method `get_volcano_id_likelihood` to get the values of volcano_id and likelihood_of_an_eruption.**"
   ]
  },
  {
   "cell_type": "code",
   "execution_count": 84,
   "metadata": {},
   "outputs": [],
   "source": [
    "# The Volcano class (you'll edit and expand on this)\n",
    "class Volcano():\n",
    "    '''\n",
    "    This class is designed to include information about individual volcano.\n",
    "    Currently this class has the following attributes:\n",
    "    \n",
    "    volcano_id : this is the id of the volcano\n",
    "    '''\n",
    "    \n",
    "    def __init__(self, volcano_id='',country = '', likelihood_of_an_eruption = 0):\n",
    "        self.volcano_id = volcano_id\n",
    "        self.country = country\n",
    "        self.likelihood_of_an_eruption = likelihood_of_an_eruption\n",
    "        \n",
    "    def get_volcano_id_likelihood(self):\n",
    "        '''\n",
    "        This function returns the id of the volcano\n",
    "        '''\n",
    "        return (self.volcano_id,self.likelihood_of_an_eruption)\n",
    "    \n",
    "    def identify_volcano_type(self,volcano_types = ['dome', 'cone', 'crater', 'vent', 'shield', 'caldera', 'stratovolcano']):\n",
    "        self.volcano_type = np.random.choice(volcano_types)\n",
    "        \n",
    "    def display_volcano_type(self):\n",
    "        print(\"Volcano \",self.volcano_id,\" in,\",self.country,\" is a \",self.volcano_type)"
   ]
  },
  {
   "cell_type": "code",
   "execution_count": 85,
   "metadata": {
    "scrolled": true
   },
   "outputs": [],
   "source": [
    "# This is your list of fictitious volcanos\n",
    "# The information provided is: volcano_id, country, likelihood_of_an_eruption \n",
    "volcano_list = [['20020', 'U.S.', 0.5],\n",
    "          ['20010', 'Japan', 1],\n",
    "          ['19990', 'China', 0.3],\n",
    "          ['20100', 'India', 0.7],\n",
    "          ['20190', 'Russia', 0.6],\n",
    "          ['19970', 'France', 0.4]]\n",
    "# Here we provide the list of volcano types.\n",
    "volcano_types = ['dome', 'cone', 'crater', 'vent', 'shield', 'caldera', 'stratovolcano']\n"
   ]
  },
  {
   "cell_type": "code",
   "execution_count": 88,
   "metadata": {},
   "outputs": [
    {
     "name": "stdout",
     "output_type": "stream",
     "text": [
      "Volcano  20020  in, U.S.  is a  dome\n",
      "Volcano  20010  in, Japan  is a  shield\n",
      "Volcano  19990  in, China  is a  vent\n",
      "Volcano  20100  in, India  is a  vent\n",
      "Volcano  20190  in, Russia  is a  vent\n",
      "Volcano  19970  in, France  is a  shield\n",
      "\n",
      "[('20010', 1), ('20100', 0.7), ('20190', 0.6), ('20020', 0.5), ('19970', 0.4), ('19990', 0.3)]\n"
     ]
    }
   ],
   "source": [
    "# Put your code here\n",
    "volcanoes = []\n",
    "id_likelihood = []\n",
    "for v in volcano_list:\n",
    "    volcano = Volcano(volcano_id = v[0],country = v[1],likelihood_of_an_eruption = v[2])\n",
    "    volcanoes.append(volcanoes)\n",
    "    volcano.identify_volcano_type()\n",
    "    volcano.display_volcano_type()\n",
    "    id_likelihood.append(volcano.get_volcano_id_likelihood())\n",
    "print()\n",
    "print(sorted(id_likelihood,key = lambda x: x[1],reverse = True))"
   ]
  },
  {
   "cell_type": "markdown",
   "metadata": {},
   "source": [
    "---\n",
    "### STOP: Save the current state of your notebook, commit the changes to your local repository and push those changes to the remote repository. Use the commit message \"Committing Part 6\".\n",
    "---"
   ]
  },
  {
   "cell_type": "markdown",
   "metadata": {},
   "source": [
    "## You're done! Congrats on finishing your CMSE 202 Midterm!\n",
    "\n",
    "Make sure all of your changes to your repository are committed and pushed to GitHub. Also upload a copy of this notebook to the dropbox on D2L in case something went wrong with your repository or if you couldn't get the repository to work."
   ]
  }
 ],
 "metadata": {
  "kernelspec": {
   "display_name": "Python 3",
   "language": "python",
   "name": "python3"
  },
  "language_info": {
   "codemirror_mode": {
    "name": "ipython",
    "version": 3
   },
   "file_extension": ".py",
   "mimetype": "text/x-python",
   "name": "python",
   "nbconvert_exporter": "python",
   "pygments_lexer": "ipython3",
   "version": "3.7.0"
  }
 },
 "nbformat": 4,
 "nbformat_minor": 4
}
