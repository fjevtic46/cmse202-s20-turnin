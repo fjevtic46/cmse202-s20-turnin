{
 "cells": [
  {
   "cell_type": "markdown",
   "metadata": {},
   "source": [
    "### <p style=\"text-align: right;\"> &#9989; Filip Jevtic </p>\n",
    "#### <p style=\"text-align: right;\"> &#9989; Put your group member names here</p>"
   ]
  },
  {
   "cell_type": "markdown",
   "metadata": {},
   "source": [
    "# Day 3 In-Class Assignment: Git\n",
    "\n",
    "<img src=\"https://git-scm.com/images/logos/downloads/Git-Logo-1788C.png\" width=\"250px\">"
   ]
  },
  {
   "cell_type": "markdown",
   "metadata": {},
   "source": [
    "## Goals for today's pre-class assignment \n",
    "\n",
    "1. Make sure that everyone has set up their GitHub \"turn in\" repository for future assignments.\n",
    "2. Learn the basics of Git for version control and repository management.\n",
    "3. Understand how to push and pull changes in a remote Git repository.\n",
    "\n",
    "### Assignment instructions\n",
    "\n",
    "Work through the notebook making sure to write all necessary code and answer any questions.\n",
    "\n",
    "**This assignment is due by the end of class,** and should be uploaded into the \"In-Class assignments\" submission folder for Day 3.  Submission instructions can be found at the end of the notebook.\n",
    "\n",
    "## Agenda for today:\n",
    "\n",
    "1. Review of questions about pre-class assignment\n",
    "2. set up GitHub turn-in repository (if not completed last time)\n",
    "3. Cheatsheet for Git commands\n",
    "4. Follow along Git Tutorial\n",
    "5. Assignment wrap-up"
   ]
  },
  {
   "cell_type": "markdown",
   "metadata": {},
   "source": [
    "----\n",
    "# 1. Review of pre-class assignment\n",
    "\n",
    "Did anyone have any specific issues with the pre-class assignment?\n",
    "\n",
    "Let's take a moment to highlight some key concepts. Discuss with your table the following prompts and write down a brief definition of each of these concepts.\n",
    "\n",
    "* Discuss the similarities and differences betweeen a command line interface and a graphical user interface. \n",
    "\n",
    "\n",
    "* Discuss what a directory is and what it means to have a directory structure.\n",
    "\n",
    "&#9989; Do This -  Write your disussion notes here.\n",
    "\n",
    "* Discuss what we are referring to when we say \"repository\".\n",
    "\n",
    "&#9989; Do This -  Write your disussion notes here.\n",
    "\n",
    "* Discuss what we mean by \"version history\" and \"version control\"\n",
    "\n",
    "&#9989; Do This -  Write your disussion notes here.\n"
   ]
  },
  {
   "cell_type": "markdown",
   "metadata": {},
   "source": [
    "---\n",
    "# 2. Setting a turn-in GitHub repository\n",
    "\n",
    "**If you didn't finish this during the last class period, do so now!**\n",
    "\n",
    "### Step 1: Create a GitHub account\n",
    "If you haven't done so already, go to the GitHub website and create an account using your @msu.edu email address. Then, log into GitHub. Also, request access to the [Student Pack](https://education.github.com/pack).\n",
    "\n",
    "### Step 2: Create a new _private_ GitHub repository\n",
    "\n",
    "In Day-02 we asked you to make a private github repository named `cmse202-s20-turnin` -- **Make sure it matches this directly and that it is a _private_ repository.** Make sure you share access with your TA. They will share their GitHub usernames with you in class.\n",
    "\n",
    "Once you have created the repository on GitHub **clone a copy of it to your computer in the `CMSE202/repositories` your created on your computer**.\n",
    "\n",
    "### Step 3: Copy the Day 3 in-class notebook into your new repository\n",
    "\n",
    "Now, go into your new repository and create a new folder called `day-03-in-class` (Note: _you should be doing this from the command line!_) and then carefully read all of the following commands and then execute then:\n",
    "\n",
    "* Move a copy of the Day-03 in-class notebook into your new `day-03-in-class` directory.\n",
    "\n",
    "**By the end of class today**, you'll know how to officially add that file to your course \"turnin\" repository, but for now, you're done! \n",
    "\n",
    "We'll be spending more time learning the ins and outs of Git in today's class."
   ]
  },
  {
   "cell_type": "markdown",
   "metadata": {},
   "source": [
    "----\n",
    "# 3. Cheat Sheet for git commands\n",
    "In class we will be exploring git and some of the most common commands. Note there are a lot of other commands for using git as it is a very powerful tool.  However, we can't cover everything so this list just provides the most basic commands that let you create and contribute to a repository for class."
   ]
  },
  {
   "cell_type": "markdown",
   "metadata": {},
   "source": [
    "## Checking out a git repository\n",
    "\n",
    "We have already done this one in class multiple times.  You need a URL for the repository. You also need to have permissions to access the repository.  If the repository is public there is no problem. If the repository is private you will need a password, or may need to set up an ssh key, which we'll talk about at a later time. \n",
    "\n",
    "* **git clone URL** - Check out initial git repository"
   ]
  },
  {
   "cell_type": "markdown",
   "metadata": {},
   "source": [
    "## Creating a new git repository\n",
    "\n",
    "Creating a local/empty repository is easy. You can just use the \"git init\" command. Just make sure you run the command in the directory that you want to turn into a repository. \n",
    "\n",
    "* **git init .** - Create a new/empty repository. \n",
    "\n",
    "This only creates a local git repository. To sync this repository with a server (gitlab or github) you need to create a \"new project\" on the website and follow the provided directions for syncing your local repository with the remote one."
   ]
  },
  {
   "cell_type": "markdown",
   "metadata": {},
   "source": [
    "## Pulling in changes from the server. \n",
    "\n",
    "We tested this one earlier. You can just run the \"git pull\" command to pull from the default repository: \n",
    "\n",
    "* **git pull** - Download changes from the central repository.\n",
    "\n",
    "Or, if you want to pull from a different repository, you can specific the repository path:\n",
    "\n",
    "* **git pull < path to remote repository >** - Download changes from another repository.\n",
    "\n",
    "NOTE: \"git pull\" can be tricky if you have modified any files that will be changed by the git pull and you have not committed the file.  See information about merging git."
   ]
  },
  {
   "cell_type": "markdown",
   "metadata": {},
   "source": [
    "## Adding and Commiting a change\n",
    "\n",
    "The most common activity on a git repository is commiting a change.  Typically you are either adding a new file or changing an existing file.  The steps I almost always use are as follows:\n",
    "\n",
    "* **git status** - check to see what files are different\n",
    "    * Existing files that have been changed will be listed under \"Changes not staged for commit:\"\n",
    "    * New files that have been added will be listed under \"Untracked files:\"\n",
    "* **git add filename** - Add new files or changed files to the current commit.\n",
    "* **git status** - check to make sure the files are included in the next commit. \n",
    "    * These files will be listed under \"Changes to be committed:\"\n",
    "* **git commit -m \"Message about the changes\"** - Commit the changes to the repository.  You are now tracking the changes locally.\n",
    "* **git commit -a** - Add modified files for staging and commit them all in one command.\n",
    "* **git push** - Push all committed changes the changes to the server.\n",
    "\n",
    "**Some guidelines:**  \n",
    "* Commit early and often. \n",
    "* Do not commit binary files (Unless you really mean it)\n",
    "* To not \"Push\" any changes that break something that was working."
   ]
  },
  {
   "cell_type": "markdown",
   "metadata": {},
   "source": [
    "---\n",
    "# 4. Follow-along Git Tutorial\n",
    "\n",
    "For this part of the assignment we're going to work through an instructor-led Git tutorial. If you get stuck at any point raise your hand and either the TA or LA will help you out. The goal of the tutorial is to walk you through what you can expect when working with Git and give you a bit of practice with managing a Git repository.\n",
    "\n",
    "**Once we finish the tutorial, go back and officially add the Day-03 in-class assignment to your \"turn-in\" Git repository, commit it, and then push the new commit to your GitHub repository. Double-check that it worked!** "
   ]
  },
  {
   "cell_type": "markdown",
   "metadata": {},
   "source": [
    "----\n"
   ]
  },
  {
   "cell_type": "markdown",
   "metadata": {},
   "source": [
    "---------\n",
    "### Congratulations, you're done with your in-class assignment!\n",
    "\n",
    "Now, you just need to submit this assignment by uploading it to the course <a href=\"https://d2l.msu.edu/\">Desire2Learn</a> web page for today's in-class assignment submission folder. (Don't forget to add all of the appropriate names in the first cell)."
   ]
  },
  {
   "cell_type": "markdown",
   "metadata": {},
   "source": [
    "&#169; Copyright 2018,  Michigan State University Board of Trustees"
   ]
  }
 ],
 "metadata": {
  "anaconda-cloud": {},
  "kernelspec": {
   "display_name": "Python 3",
   "language": "python",
   "name": "python3"
  },
  "language_info": {
   "codemirror_mode": {
    "name": "ipython",
    "version": 3
   },
   "file_extension": ".py",
   "mimetype": "text/x-python",
   "name": "python",
   "nbconvert_exporter": "python",
   "pygments_lexer": "ipython3",
   "version": "3.7.0"
  }
 },
 "nbformat": 4,
 "nbformat_minor": 4
}
